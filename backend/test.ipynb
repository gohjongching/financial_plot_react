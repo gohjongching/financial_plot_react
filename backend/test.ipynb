{
 "cells": [
  {
   "cell_type": "code",
   "execution_count": 2,
   "metadata": {},
   "outputs": [],
   "source": [
    "import os\n"
   ]
  },
  {
   "cell_type": "code",
   "execution_count": 6,
   "metadata": {},
   "outputs": [],
   "source": [
    "import pandas as pd\n",
    "import plotly.express as px\n",
    "\n",
    "df = pd.read_csv(r\"C:\\Users\\myeng\\Downloads\\ML_practice\\CVPD_interview\\backend\\uploads\\5_years_financial_data.csv\")"
   ]
  },
  {
   "cell_type": "code",
   "execution_count": 8,
   "metadata": {},
   "outputs": [
    {
     "data": {
      "text/html": [
       "<div>\n",
       "<style scoped>\n",
       "    .dataframe tbody tr th:only-of-type {\n",
       "        vertical-align: middle;\n",
       "    }\n",
       "\n",
       "    .dataframe tbody tr th {\n",
       "        vertical-align: top;\n",
       "    }\n",
       "\n",
       "    .dataframe thead th {\n",
       "        text-align: right;\n",
       "    }\n",
       "</style>\n",
       "<table border=\"1\" class=\"dataframe\">\n",
       "  <thead>\n",
       "    <tr style=\"text-align: right;\">\n",
       "      <th></th>\n",
       "      <th>Date</th>\n",
       "      <th>Category</th>\n",
       "      <th>Amount</th>\n",
       "    </tr>\n",
       "  </thead>\n",
       "  <tbody>\n",
       "    <tr>\n",
       "      <th>0</th>\n",
       "      <td>1/1/2019</td>\n",
       "      <td>Transportation</td>\n",
       "      <td>84.04</td>\n",
       "    </tr>\n",
       "    <tr>\n",
       "      <th>1</th>\n",
       "      <td>2/1/2019</td>\n",
       "      <td>Entertainment</td>\n",
       "      <td>97.82</td>\n",
       "    </tr>\n",
       "    <tr>\n",
       "      <th>2</th>\n",
       "      <td>3/1/2019</td>\n",
       "      <td>Entertainment</td>\n",
       "      <td>63.70</td>\n",
       "    </tr>\n",
       "    <tr>\n",
       "      <th>3</th>\n",
       "      <td>4/1/2019</td>\n",
       "      <td>Dining Out</td>\n",
       "      <td>90.04</td>\n",
       "    </tr>\n",
       "    <tr>\n",
       "      <th>4</th>\n",
       "      <td>5/1/2019</td>\n",
       "      <td>Transportation</td>\n",
       "      <td>124.11</td>\n",
       "    </tr>\n",
       "    <tr>\n",
       "      <th>...</th>\n",
       "      <td>...</td>\n",
       "      <td>...</td>\n",
       "      <td>...</td>\n",
       "    </tr>\n",
       "    <tr>\n",
       "      <th>1821</th>\n",
       "      <td>27/12/2023</td>\n",
       "      <td>Entertainment</td>\n",
       "      <td>164.03</td>\n",
       "    </tr>\n",
       "    <tr>\n",
       "      <th>1822</th>\n",
       "      <td>28/12/2023</td>\n",
       "      <td>Dining Out</td>\n",
       "      <td>153.23</td>\n",
       "    </tr>\n",
       "    <tr>\n",
       "      <th>1823</th>\n",
       "      <td>29/12/2023</td>\n",
       "      <td>Groceries</td>\n",
       "      <td>84.57</td>\n",
       "    </tr>\n",
       "    <tr>\n",
       "      <th>1824</th>\n",
       "      <td>30/12/2023</td>\n",
       "      <td>Entertainment</td>\n",
       "      <td>106.17</td>\n",
       "    </tr>\n",
       "    <tr>\n",
       "      <th>1825</th>\n",
       "      <td>31/12/2023</td>\n",
       "      <td>Transportation</td>\n",
       "      <td>187.90</td>\n",
       "    </tr>\n",
       "  </tbody>\n",
       "</table>\n",
       "<p>1826 rows × 3 columns</p>\n",
       "</div>"
      ],
      "text/plain": [
       "            Date        Category  Amount\n",
       "0       1/1/2019  Transportation   84.04\n",
       "1       2/1/2019   Entertainment   97.82\n",
       "2       3/1/2019   Entertainment   63.70\n",
       "3       4/1/2019      Dining Out   90.04\n",
       "4       5/1/2019  Transportation  124.11\n",
       "...          ...             ...     ...\n",
       "1821  27/12/2023   Entertainment  164.03\n",
       "1822  28/12/2023      Dining Out  153.23\n",
       "1823  29/12/2023       Groceries   84.57\n",
       "1824  30/12/2023   Entertainment  106.17\n",
       "1825  31/12/2023  Transportation  187.90\n",
       "\n",
       "[1826 rows x 3 columns]"
      ]
     },
     "execution_count": 8,
     "metadata": {},
     "output_type": "execute_result"
    }
   ],
   "source": [
    "df"
   ]
  },
  {
   "cell_type": "markdown",
   "metadata": {},
   "source": [
    "1. Monthly Expenditure Over Time: To see how the total expenditure has changed month by month over the 5 years.\n",
    "\n",
    "2. Average Spend by Category: To understand which categories have the highest average spending.\n",
    "\n",
    "3. Total Spend by Category Over the 5 Years: To see which categories have the highest total expenditure over the 5-year period."
   ]
  },
  {
   "cell_type": "code",
   "execution_count": 10,
   "metadata": {},
   "outputs": [],
   "source": [
    "df[\"Date\"] = pd.to_datetime(df[\"Date\"], format=\"%d/%m/%Y\")"
   ]
  },
  {
   "cell_type": "code",
   "execution_count": 5,
   "metadata": {},
   "outputs": [
    {
     "data": {
      "application/vnd.plotly.v1+json": {
       "config": {
        "plotlyServerURL": "https://plot.ly"
       },
       "data": [
        {
         "hovertemplate": "Date=%{x}<br>Total Expenditure ($)=%{y}<extra></extra>",
         "legendgroup": "",
         "line": {
          "color": "#636efa",
          "dash": "solid"
         },
         "marker": {
          "symbol": "circle"
         },
         "mode": "lines",
         "name": "",
         "orientation": "v",
         "showlegend": false,
         "type": "scatter",
         "x": [
          "2019-01-31T00:00:00",
          "2019-02-28T00:00:00",
          "2019-03-31T00:00:00",
          "2019-04-30T00:00:00",
          "2019-05-31T00:00:00",
          "2019-06-30T00:00:00",
          "2019-07-31T00:00:00",
          "2019-08-31T00:00:00",
          "2019-09-30T00:00:00",
          "2019-10-31T00:00:00",
          "2019-11-30T00:00:00",
          "2019-12-31T00:00:00",
          "2020-01-31T00:00:00",
          "2020-02-29T00:00:00",
          "2020-03-31T00:00:00",
          "2020-04-30T00:00:00",
          "2020-05-31T00:00:00",
          "2020-06-30T00:00:00",
          "2020-07-31T00:00:00",
          "2020-08-31T00:00:00",
          "2020-09-30T00:00:00",
          "2020-10-31T00:00:00",
          "2020-11-30T00:00:00",
          "2020-12-31T00:00:00",
          "2021-01-31T00:00:00",
          "2021-02-28T00:00:00",
          "2021-03-31T00:00:00",
          "2021-04-30T00:00:00",
          "2021-05-31T00:00:00",
          "2021-06-30T00:00:00",
          "2021-07-31T00:00:00",
          "2021-08-31T00:00:00",
          "2021-09-30T00:00:00",
          "2021-10-31T00:00:00",
          "2021-11-30T00:00:00",
          "2021-12-31T00:00:00",
          "2022-01-31T00:00:00",
          "2022-02-28T00:00:00",
          "2022-03-31T00:00:00",
          "2022-04-30T00:00:00",
          "2022-05-31T00:00:00",
          "2022-06-30T00:00:00",
          "2022-07-31T00:00:00",
          "2022-08-31T00:00:00",
          "2022-09-30T00:00:00",
          "2022-10-31T00:00:00",
          "2022-11-30T00:00:00",
          "2022-12-31T00:00:00",
          "2023-01-31T00:00:00",
          "2023-02-28T00:00:00",
          "2023-03-31T00:00:00",
          "2023-04-30T00:00:00",
          "2023-05-31T00:00:00",
          "2023-06-30T00:00:00",
          "2023-07-31T00:00:00",
          "2023-08-31T00:00:00",
          "2023-09-30T00:00:00",
          "2023-10-31T00:00:00",
          "2023-11-30T00:00:00",
          "2023-12-31T00:00:00"
         ],
         "xaxis": "x",
         "y": [
          2434.79,
          3324.05,
          3550.69,
          3568.13,
          3441.33,
          3494.49,
          3639.2,
          3148.41,
          3467.41,
          3340.9700000000003,
          3301.41,
          3771.99,
          3632.68,
          2897.36,
          3865.64,
          3255.22,
          3669.01,
          3985.43,
          3283.73,
          3553.09,
          2776.85,
          3442.78,
          3432.74,
          3112.43,
          3317.13,
          2984.32,
          3054.3199999999997,
          2912.91,
          3468.35,
          3465.46,
          3473.07,
          3416.77,
          3551.26,
          3080.55,
          3029.73,
          3832.6,
          3312.84,
          2848.46,
          4090.04,
          2845.55,
          3498.53,
          3692.44,
          3087.96,
          3381.48,
          3280.28,
          3458.15,
          3037.93,
          3495.87,
          3647.93,
          2812.38,
          3538.02,
          3459.11,
          3330.5,
          3293.4,
          3571.98,
          3275.82,
          3601.3,
          3481.94,
          2930.92,
          3540.32
         ],
         "yaxis": "y"
        }
       ],
       "layout": {
        "legend": {
         "tracegroupgap": 0
        },
        "template": {
         "data": {
          "bar": [
           {
            "error_x": {
             "color": "#2a3f5f"
            },
            "error_y": {
             "color": "#2a3f5f"
            },
            "marker": {
             "line": {
              "color": "#E5ECF6",
              "width": 0.5
             },
             "pattern": {
              "fillmode": "overlay",
              "size": 10,
              "solidity": 0.2
             }
            },
            "type": "bar"
           }
          ],
          "barpolar": [
           {
            "marker": {
             "line": {
              "color": "#E5ECF6",
              "width": 0.5
             },
             "pattern": {
              "fillmode": "overlay",
              "size": 10,
              "solidity": 0.2
             }
            },
            "type": "barpolar"
           }
          ],
          "carpet": [
           {
            "aaxis": {
             "endlinecolor": "#2a3f5f",
             "gridcolor": "white",
             "linecolor": "white",
             "minorgridcolor": "white",
             "startlinecolor": "#2a3f5f"
            },
            "baxis": {
             "endlinecolor": "#2a3f5f",
             "gridcolor": "white",
             "linecolor": "white",
             "minorgridcolor": "white",
             "startlinecolor": "#2a3f5f"
            },
            "type": "carpet"
           }
          ],
          "choropleth": [
           {
            "colorbar": {
             "outlinewidth": 0,
             "ticks": ""
            },
            "type": "choropleth"
           }
          ],
          "contour": [
           {
            "colorbar": {
             "outlinewidth": 0,
             "ticks": ""
            },
            "colorscale": [
             [
              0,
              "#0d0887"
             ],
             [
              0.1111111111111111,
              "#46039f"
             ],
             [
              0.2222222222222222,
              "#7201a8"
             ],
             [
              0.3333333333333333,
              "#9c179e"
             ],
             [
              0.4444444444444444,
              "#bd3786"
             ],
             [
              0.5555555555555556,
              "#d8576b"
             ],
             [
              0.6666666666666666,
              "#ed7953"
             ],
             [
              0.7777777777777778,
              "#fb9f3a"
             ],
             [
              0.8888888888888888,
              "#fdca26"
             ],
             [
              1,
              "#f0f921"
             ]
            ],
            "type": "contour"
           }
          ],
          "contourcarpet": [
           {
            "colorbar": {
             "outlinewidth": 0,
             "ticks": ""
            },
            "type": "contourcarpet"
           }
          ],
          "heatmap": [
           {
            "colorbar": {
             "outlinewidth": 0,
             "ticks": ""
            },
            "colorscale": [
             [
              0,
              "#0d0887"
             ],
             [
              0.1111111111111111,
              "#46039f"
             ],
             [
              0.2222222222222222,
              "#7201a8"
             ],
             [
              0.3333333333333333,
              "#9c179e"
             ],
             [
              0.4444444444444444,
              "#bd3786"
             ],
             [
              0.5555555555555556,
              "#d8576b"
             ],
             [
              0.6666666666666666,
              "#ed7953"
             ],
             [
              0.7777777777777778,
              "#fb9f3a"
             ],
             [
              0.8888888888888888,
              "#fdca26"
             ],
             [
              1,
              "#f0f921"
             ]
            ],
            "type": "heatmap"
           }
          ],
          "heatmapgl": [
           {
            "colorbar": {
             "outlinewidth": 0,
             "ticks": ""
            },
            "colorscale": [
             [
              0,
              "#0d0887"
             ],
             [
              0.1111111111111111,
              "#46039f"
             ],
             [
              0.2222222222222222,
              "#7201a8"
             ],
             [
              0.3333333333333333,
              "#9c179e"
             ],
             [
              0.4444444444444444,
              "#bd3786"
             ],
             [
              0.5555555555555556,
              "#d8576b"
             ],
             [
              0.6666666666666666,
              "#ed7953"
             ],
             [
              0.7777777777777778,
              "#fb9f3a"
             ],
             [
              0.8888888888888888,
              "#fdca26"
             ],
             [
              1,
              "#f0f921"
             ]
            ],
            "type": "heatmapgl"
           }
          ],
          "histogram": [
           {
            "marker": {
             "pattern": {
              "fillmode": "overlay",
              "size": 10,
              "solidity": 0.2
             }
            },
            "type": "histogram"
           }
          ],
          "histogram2d": [
           {
            "colorbar": {
             "outlinewidth": 0,
             "ticks": ""
            },
            "colorscale": [
             [
              0,
              "#0d0887"
             ],
             [
              0.1111111111111111,
              "#46039f"
             ],
             [
              0.2222222222222222,
              "#7201a8"
             ],
             [
              0.3333333333333333,
              "#9c179e"
             ],
             [
              0.4444444444444444,
              "#bd3786"
             ],
             [
              0.5555555555555556,
              "#d8576b"
             ],
             [
              0.6666666666666666,
              "#ed7953"
             ],
             [
              0.7777777777777778,
              "#fb9f3a"
             ],
             [
              0.8888888888888888,
              "#fdca26"
             ],
             [
              1,
              "#f0f921"
             ]
            ],
            "type": "histogram2d"
           }
          ],
          "histogram2dcontour": [
           {
            "colorbar": {
             "outlinewidth": 0,
             "ticks": ""
            },
            "colorscale": [
             [
              0,
              "#0d0887"
             ],
             [
              0.1111111111111111,
              "#46039f"
             ],
             [
              0.2222222222222222,
              "#7201a8"
             ],
             [
              0.3333333333333333,
              "#9c179e"
             ],
             [
              0.4444444444444444,
              "#bd3786"
             ],
             [
              0.5555555555555556,
              "#d8576b"
             ],
             [
              0.6666666666666666,
              "#ed7953"
             ],
             [
              0.7777777777777778,
              "#fb9f3a"
             ],
             [
              0.8888888888888888,
              "#fdca26"
             ],
             [
              1,
              "#f0f921"
             ]
            ],
            "type": "histogram2dcontour"
           }
          ],
          "mesh3d": [
           {
            "colorbar": {
             "outlinewidth": 0,
             "ticks": ""
            },
            "type": "mesh3d"
           }
          ],
          "parcoords": [
           {
            "line": {
             "colorbar": {
              "outlinewidth": 0,
              "ticks": ""
             }
            },
            "type": "parcoords"
           }
          ],
          "pie": [
           {
            "automargin": true,
            "type": "pie"
           }
          ],
          "scatter": [
           {
            "fillpattern": {
             "fillmode": "overlay",
             "size": 10,
             "solidity": 0.2
            },
            "type": "scatter"
           }
          ],
          "scatter3d": [
           {
            "line": {
             "colorbar": {
              "outlinewidth": 0,
              "ticks": ""
             }
            },
            "marker": {
             "colorbar": {
              "outlinewidth": 0,
              "ticks": ""
             }
            },
            "type": "scatter3d"
           }
          ],
          "scattercarpet": [
           {
            "marker": {
             "colorbar": {
              "outlinewidth": 0,
              "ticks": ""
             }
            },
            "type": "scattercarpet"
           }
          ],
          "scattergeo": [
           {
            "marker": {
             "colorbar": {
              "outlinewidth": 0,
              "ticks": ""
             }
            },
            "type": "scattergeo"
           }
          ],
          "scattergl": [
           {
            "marker": {
             "colorbar": {
              "outlinewidth": 0,
              "ticks": ""
             }
            },
            "type": "scattergl"
           }
          ],
          "scattermapbox": [
           {
            "marker": {
             "colorbar": {
              "outlinewidth": 0,
              "ticks": ""
             }
            },
            "type": "scattermapbox"
           }
          ],
          "scatterpolar": [
           {
            "marker": {
             "colorbar": {
              "outlinewidth": 0,
              "ticks": ""
             }
            },
            "type": "scatterpolar"
           }
          ],
          "scatterpolargl": [
           {
            "marker": {
             "colorbar": {
              "outlinewidth": 0,
              "ticks": ""
             }
            },
            "type": "scatterpolargl"
           }
          ],
          "scatterternary": [
           {
            "marker": {
             "colorbar": {
              "outlinewidth": 0,
              "ticks": ""
             }
            },
            "type": "scatterternary"
           }
          ],
          "surface": [
           {
            "colorbar": {
             "outlinewidth": 0,
             "ticks": ""
            },
            "colorscale": [
             [
              0,
              "#0d0887"
             ],
             [
              0.1111111111111111,
              "#46039f"
             ],
             [
              0.2222222222222222,
              "#7201a8"
             ],
             [
              0.3333333333333333,
              "#9c179e"
             ],
             [
              0.4444444444444444,
              "#bd3786"
             ],
             [
              0.5555555555555556,
              "#d8576b"
             ],
             [
              0.6666666666666666,
              "#ed7953"
             ],
             [
              0.7777777777777778,
              "#fb9f3a"
             ],
             [
              0.8888888888888888,
              "#fdca26"
             ],
             [
              1,
              "#f0f921"
             ]
            ],
            "type": "surface"
           }
          ],
          "table": [
           {
            "cells": {
             "fill": {
              "color": "#EBF0F8"
             },
             "line": {
              "color": "white"
             }
            },
            "header": {
             "fill": {
              "color": "#C8D4E3"
             },
             "line": {
              "color": "white"
             }
            },
            "type": "table"
           }
          ]
         },
         "layout": {
          "annotationdefaults": {
           "arrowcolor": "#2a3f5f",
           "arrowhead": 0,
           "arrowwidth": 1
          },
          "autotypenumbers": "strict",
          "coloraxis": {
           "colorbar": {
            "outlinewidth": 0,
            "ticks": ""
           }
          },
          "colorscale": {
           "diverging": [
            [
             0,
             "#8e0152"
            ],
            [
             0.1,
             "#c51b7d"
            ],
            [
             0.2,
             "#de77ae"
            ],
            [
             0.3,
             "#f1b6da"
            ],
            [
             0.4,
             "#fde0ef"
            ],
            [
             0.5,
             "#f7f7f7"
            ],
            [
             0.6,
             "#e6f5d0"
            ],
            [
             0.7,
             "#b8e186"
            ],
            [
             0.8,
             "#7fbc41"
            ],
            [
             0.9,
             "#4d9221"
            ],
            [
             1,
             "#276419"
            ]
           ],
           "sequential": [
            [
             0,
             "#0d0887"
            ],
            [
             0.1111111111111111,
             "#46039f"
            ],
            [
             0.2222222222222222,
             "#7201a8"
            ],
            [
             0.3333333333333333,
             "#9c179e"
            ],
            [
             0.4444444444444444,
             "#bd3786"
            ],
            [
             0.5555555555555556,
             "#d8576b"
            ],
            [
             0.6666666666666666,
             "#ed7953"
            ],
            [
             0.7777777777777778,
             "#fb9f3a"
            ],
            [
             0.8888888888888888,
             "#fdca26"
            ],
            [
             1,
             "#f0f921"
            ]
           ],
           "sequentialminus": [
            [
             0,
             "#0d0887"
            ],
            [
             0.1111111111111111,
             "#46039f"
            ],
            [
             0.2222222222222222,
             "#7201a8"
            ],
            [
             0.3333333333333333,
             "#9c179e"
            ],
            [
             0.4444444444444444,
             "#bd3786"
            ],
            [
             0.5555555555555556,
             "#d8576b"
            ],
            [
             0.6666666666666666,
             "#ed7953"
            ],
            [
             0.7777777777777778,
             "#fb9f3a"
            ],
            [
             0.8888888888888888,
             "#fdca26"
            ],
            [
             1,
             "#f0f921"
            ]
           ]
          },
          "colorway": [
           "#636efa",
           "#EF553B",
           "#00cc96",
           "#ab63fa",
           "#FFA15A",
           "#19d3f3",
           "#FF6692",
           "#B6E880",
           "#FF97FF",
           "#FECB52"
          ],
          "font": {
           "color": "#2a3f5f"
          },
          "geo": {
           "bgcolor": "white",
           "lakecolor": "white",
           "landcolor": "#E5ECF6",
           "showlakes": true,
           "showland": true,
           "subunitcolor": "white"
          },
          "hoverlabel": {
           "align": "left"
          },
          "hovermode": "closest",
          "mapbox": {
           "style": "light"
          },
          "paper_bgcolor": "white",
          "plot_bgcolor": "#E5ECF6",
          "polar": {
           "angularaxis": {
            "gridcolor": "white",
            "linecolor": "white",
            "ticks": ""
           },
           "bgcolor": "#E5ECF6",
           "radialaxis": {
            "gridcolor": "white",
            "linecolor": "white",
            "ticks": ""
           }
          },
          "scene": {
           "xaxis": {
            "backgroundcolor": "#E5ECF6",
            "gridcolor": "white",
            "gridwidth": 2,
            "linecolor": "white",
            "showbackground": true,
            "ticks": "",
            "zerolinecolor": "white"
           },
           "yaxis": {
            "backgroundcolor": "#E5ECF6",
            "gridcolor": "white",
            "gridwidth": 2,
            "linecolor": "white",
            "showbackground": true,
            "ticks": "",
            "zerolinecolor": "white"
           },
           "zaxis": {
            "backgroundcolor": "#E5ECF6",
            "gridcolor": "white",
            "gridwidth": 2,
            "linecolor": "white",
            "showbackground": true,
            "ticks": "",
            "zerolinecolor": "white"
           }
          },
          "shapedefaults": {
           "line": {
            "color": "#2a3f5f"
           }
          },
          "ternary": {
           "aaxis": {
            "gridcolor": "white",
            "linecolor": "white",
            "ticks": ""
           },
           "baxis": {
            "gridcolor": "white",
            "linecolor": "white",
            "ticks": ""
           },
           "bgcolor": "#E5ECF6",
           "caxis": {
            "gridcolor": "white",
            "linecolor": "white",
            "ticks": ""
           }
          },
          "title": {
           "x": 0.05
          },
          "xaxis": {
           "automargin": true,
           "gridcolor": "white",
           "linecolor": "white",
           "ticks": "",
           "title": {
            "standoff": 15
           },
           "zerolinecolor": "white",
           "zerolinewidth": 2
          },
          "yaxis": {
           "automargin": true,
           "gridcolor": "white",
           "linecolor": "white",
           "ticks": "",
           "title": {
            "standoff": 15
           },
           "zerolinecolor": "white",
           "zerolinewidth": 2
          }
         }
        },
        "title": {
         "text": "Monthly Expenditure Over Time"
        },
        "xaxis": {
         "anchor": "y",
         "domain": [
          0,
          1
         ],
         "title": {
          "text": "Date"
         }
        },
        "yaxis": {
         "anchor": "x",
         "domain": [
          0,
          1
         ],
         "title": {
          "text": "Total Expenditure ($)"
         }
        }
       }
      }
     },
     "metadata": {},
     "output_type": "display_data"
    },
    {
     "data": {
      "application/vnd.plotly.v1+json": {
       "config": {
        "plotlyServerURL": "https://plot.ly"
       },
       "data": [
        {
         "alignmentgroup": "True",
         "hovertemplate": "Category=%{x}<br>Average Expenditure ($)=%{y}<extra></extra>",
         "legendgroup": "",
         "marker": {
          "color": "#636efa",
          "pattern": {
           "shape": ""
          }
         },
         "name": "",
         "offsetgroup": "",
         "orientation": "v",
         "showlegend": false,
         "textposition": "auto",
         "type": "bar",
         "x": [
          "Dining Out",
          "Entertainment",
          "Groceries",
          "Health",
          "Transportation",
          "Utilities"
         ],
         "xaxis": "x",
         "y": [
          109.17601307189543,
          109.45630434782608,
          107.730522875817,
          112.29764516129032,
          111.59291139240507,
          111.63615384615386
         ],
         "yaxis": "y"
        }
       ],
       "layout": {
        "barmode": "relative",
        "legend": {
         "tracegroupgap": 0
        },
        "template": {
         "data": {
          "bar": [
           {
            "error_x": {
             "color": "#2a3f5f"
            },
            "error_y": {
             "color": "#2a3f5f"
            },
            "marker": {
             "line": {
              "color": "#E5ECF6",
              "width": 0.5
             },
             "pattern": {
              "fillmode": "overlay",
              "size": 10,
              "solidity": 0.2
             }
            },
            "type": "bar"
           }
          ],
          "barpolar": [
           {
            "marker": {
             "line": {
              "color": "#E5ECF6",
              "width": 0.5
             },
             "pattern": {
              "fillmode": "overlay",
              "size": 10,
              "solidity": 0.2
             }
            },
            "type": "barpolar"
           }
          ],
          "carpet": [
           {
            "aaxis": {
             "endlinecolor": "#2a3f5f",
             "gridcolor": "white",
             "linecolor": "white",
             "minorgridcolor": "white",
             "startlinecolor": "#2a3f5f"
            },
            "baxis": {
             "endlinecolor": "#2a3f5f",
             "gridcolor": "white",
             "linecolor": "white",
             "minorgridcolor": "white",
             "startlinecolor": "#2a3f5f"
            },
            "type": "carpet"
           }
          ],
          "choropleth": [
           {
            "colorbar": {
             "outlinewidth": 0,
             "ticks": ""
            },
            "type": "choropleth"
           }
          ],
          "contour": [
           {
            "colorbar": {
             "outlinewidth": 0,
             "ticks": ""
            },
            "colorscale": [
             [
              0,
              "#0d0887"
             ],
             [
              0.1111111111111111,
              "#46039f"
             ],
             [
              0.2222222222222222,
              "#7201a8"
             ],
             [
              0.3333333333333333,
              "#9c179e"
             ],
             [
              0.4444444444444444,
              "#bd3786"
             ],
             [
              0.5555555555555556,
              "#d8576b"
             ],
             [
              0.6666666666666666,
              "#ed7953"
             ],
             [
              0.7777777777777778,
              "#fb9f3a"
             ],
             [
              0.8888888888888888,
              "#fdca26"
             ],
             [
              1,
              "#f0f921"
             ]
            ],
            "type": "contour"
           }
          ],
          "contourcarpet": [
           {
            "colorbar": {
             "outlinewidth": 0,
             "ticks": ""
            },
            "type": "contourcarpet"
           }
          ],
          "heatmap": [
           {
            "colorbar": {
             "outlinewidth": 0,
             "ticks": ""
            },
            "colorscale": [
             [
              0,
              "#0d0887"
             ],
             [
              0.1111111111111111,
              "#46039f"
             ],
             [
              0.2222222222222222,
              "#7201a8"
             ],
             [
              0.3333333333333333,
              "#9c179e"
             ],
             [
              0.4444444444444444,
              "#bd3786"
             ],
             [
              0.5555555555555556,
              "#d8576b"
             ],
             [
              0.6666666666666666,
              "#ed7953"
             ],
             [
              0.7777777777777778,
              "#fb9f3a"
             ],
             [
              0.8888888888888888,
              "#fdca26"
             ],
             [
              1,
              "#f0f921"
             ]
            ],
            "type": "heatmap"
           }
          ],
          "heatmapgl": [
           {
            "colorbar": {
             "outlinewidth": 0,
             "ticks": ""
            },
            "colorscale": [
             [
              0,
              "#0d0887"
             ],
             [
              0.1111111111111111,
              "#46039f"
             ],
             [
              0.2222222222222222,
              "#7201a8"
             ],
             [
              0.3333333333333333,
              "#9c179e"
             ],
             [
              0.4444444444444444,
              "#bd3786"
             ],
             [
              0.5555555555555556,
              "#d8576b"
             ],
             [
              0.6666666666666666,
              "#ed7953"
             ],
             [
              0.7777777777777778,
              "#fb9f3a"
             ],
             [
              0.8888888888888888,
              "#fdca26"
             ],
             [
              1,
              "#f0f921"
             ]
            ],
            "type": "heatmapgl"
           }
          ],
          "histogram": [
           {
            "marker": {
             "pattern": {
              "fillmode": "overlay",
              "size": 10,
              "solidity": 0.2
             }
            },
            "type": "histogram"
           }
          ],
          "histogram2d": [
           {
            "colorbar": {
             "outlinewidth": 0,
             "ticks": ""
            },
            "colorscale": [
             [
              0,
              "#0d0887"
             ],
             [
              0.1111111111111111,
              "#46039f"
             ],
             [
              0.2222222222222222,
              "#7201a8"
             ],
             [
              0.3333333333333333,
              "#9c179e"
             ],
             [
              0.4444444444444444,
              "#bd3786"
             ],
             [
              0.5555555555555556,
              "#d8576b"
             ],
             [
              0.6666666666666666,
              "#ed7953"
             ],
             [
              0.7777777777777778,
              "#fb9f3a"
             ],
             [
              0.8888888888888888,
              "#fdca26"
             ],
             [
              1,
              "#f0f921"
             ]
            ],
            "type": "histogram2d"
           }
          ],
          "histogram2dcontour": [
           {
            "colorbar": {
             "outlinewidth": 0,
             "ticks": ""
            },
            "colorscale": [
             [
              0,
              "#0d0887"
             ],
             [
              0.1111111111111111,
              "#46039f"
             ],
             [
              0.2222222222222222,
              "#7201a8"
             ],
             [
              0.3333333333333333,
              "#9c179e"
             ],
             [
              0.4444444444444444,
              "#bd3786"
             ],
             [
              0.5555555555555556,
              "#d8576b"
             ],
             [
              0.6666666666666666,
              "#ed7953"
             ],
             [
              0.7777777777777778,
              "#fb9f3a"
             ],
             [
              0.8888888888888888,
              "#fdca26"
             ],
             [
              1,
              "#f0f921"
             ]
            ],
            "type": "histogram2dcontour"
           }
          ],
          "mesh3d": [
           {
            "colorbar": {
             "outlinewidth": 0,
             "ticks": ""
            },
            "type": "mesh3d"
           }
          ],
          "parcoords": [
           {
            "line": {
             "colorbar": {
              "outlinewidth": 0,
              "ticks": ""
             }
            },
            "type": "parcoords"
           }
          ],
          "pie": [
           {
            "automargin": true,
            "type": "pie"
           }
          ],
          "scatter": [
           {
            "fillpattern": {
             "fillmode": "overlay",
             "size": 10,
             "solidity": 0.2
            },
            "type": "scatter"
           }
          ],
          "scatter3d": [
           {
            "line": {
             "colorbar": {
              "outlinewidth": 0,
              "ticks": ""
             }
            },
            "marker": {
             "colorbar": {
              "outlinewidth": 0,
              "ticks": ""
             }
            },
            "type": "scatter3d"
           }
          ],
          "scattercarpet": [
           {
            "marker": {
             "colorbar": {
              "outlinewidth": 0,
              "ticks": ""
             }
            },
            "type": "scattercarpet"
           }
          ],
          "scattergeo": [
           {
            "marker": {
             "colorbar": {
              "outlinewidth": 0,
              "ticks": ""
             }
            },
            "type": "scattergeo"
           }
          ],
          "scattergl": [
           {
            "marker": {
             "colorbar": {
              "outlinewidth": 0,
              "ticks": ""
             }
            },
            "type": "scattergl"
           }
          ],
          "scattermapbox": [
           {
            "marker": {
             "colorbar": {
              "outlinewidth": 0,
              "ticks": ""
             }
            },
            "type": "scattermapbox"
           }
          ],
          "scatterpolar": [
           {
            "marker": {
             "colorbar": {
              "outlinewidth": 0,
              "ticks": ""
             }
            },
            "type": "scatterpolar"
           }
          ],
          "scatterpolargl": [
           {
            "marker": {
             "colorbar": {
              "outlinewidth": 0,
              "ticks": ""
             }
            },
            "type": "scatterpolargl"
           }
          ],
          "scatterternary": [
           {
            "marker": {
             "colorbar": {
              "outlinewidth": 0,
              "ticks": ""
             }
            },
            "type": "scatterternary"
           }
          ],
          "surface": [
           {
            "colorbar": {
             "outlinewidth": 0,
             "ticks": ""
            },
            "colorscale": [
             [
              0,
              "#0d0887"
             ],
             [
              0.1111111111111111,
              "#46039f"
             ],
             [
              0.2222222222222222,
              "#7201a8"
             ],
             [
              0.3333333333333333,
              "#9c179e"
             ],
             [
              0.4444444444444444,
              "#bd3786"
             ],
             [
              0.5555555555555556,
              "#d8576b"
             ],
             [
              0.6666666666666666,
              "#ed7953"
             ],
             [
              0.7777777777777778,
              "#fb9f3a"
             ],
             [
              0.8888888888888888,
              "#fdca26"
             ],
             [
              1,
              "#f0f921"
             ]
            ],
            "type": "surface"
           }
          ],
          "table": [
           {
            "cells": {
             "fill": {
              "color": "#EBF0F8"
             },
             "line": {
              "color": "white"
             }
            },
            "header": {
             "fill": {
              "color": "#C8D4E3"
             },
             "line": {
              "color": "white"
             }
            },
            "type": "table"
           }
          ]
         },
         "layout": {
          "annotationdefaults": {
           "arrowcolor": "#2a3f5f",
           "arrowhead": 0,
           "arrowwidth": 1
          },
          "autotypenumbers": "strict",
          "coloraxis": {
           "colorbar": {
            "outlinewidth": 0,
            "ticks": ""
           }
          },
          "colorscale": {
           "diverging": [
            [
             0,
             "#8e0152"
            ],
            [
             0.1,
             "#c51b7d"
            ],
            [
             0.2,
             "#de77ae"
            ],
            [
             0.3,
             "#f1b6da"
            ],
            [
             0.4,
             "#fde0ef"
            ],
            [
             0.5,
             "#f7f7f7"
            ],
            [
             0.6,
             "#e6f5d0"
            ],
            [
             0.7,
             "#b8e186"
            ],
            [
             0.8,
             "#7fbc41"
            ],
            [
             0.9,
             "#4d9221"
            ],
            [
             1,
             "#276419"
            ]
           ],
           "sequential": [
            [
             0,
             "#0d0887"
            ],
            [
             0.1111111111111111,
             "#46039f"
            ],
            [
             0.2222222222222222,
             "#7201a8"
            ],
            [
             0.3333333333333333,
             "#9c179e"
            ],
            [
             0.4444444444444444,
             "#bd3786"
            ],
            [
             0.5555555555555556,
             "#d8576b"
            ],
            [
             0.6666666666666666,
             "#ed7953"
            ],
            [
             0.7777777777777778,
             "#fb9f3a"
            ],
            [
             0.8888888888888888,
             "#fdca26"
            ],
            [
             1,
             "#f0f921"
            ]
           ],
           "sequentialminus": [
            [
             0,
             "#0d0887"
            ],
            [
             0.1111111111111111,
             "#46039f"
            ],
            [
             0.2222222222222222,
             "#7201a8"
            ],
            [
             0.3333333333333333,
             "#9c179e"
            ],
            [
             0.4444444444444444,
             "#bd3786"
            ],
            [
             0.5555555555555556,
             "#d8576b"
            ],
            [
             0.6666666666666666,
             "#ed7953"
            ],
            [
             0.7777777777777778,
             "#fb9f3a"
            ],
            [
             0.8888888888888888,
             "#fdca26"
            ],
            [
             1,
             "#f0f921"
            ]
           ]
          },
          "colorway": [
           "#636efa",
           "#EF553B",
           "#00cc96",
           "#ab63fa",
           "#FFA15A",
           "#19d3f3",
           "#FF6692",
           "#B6E880",
           "#FF97FF",
           "#FECB52"
          ],
          "font": {
           "color": "#2a3f5f"
          },
          "geo": {
           "bgcolor": "white",
           "lakecolor": "white",
           "landcolor": "#E5ECF6",
           "showlakes": true,
           "showland": true,
           "subunitcolor": "white"
          },
          "hoverlabel": {
           "align": "left"
          },
          "hovermode": "closest",
          "mapbox": {
           "style": "light"
          },
          "paper_bgcolor": "white",
          "plot_bgcolor": "#E5ECF6",
          "polar": {
           "angularaxis": {
            "gridcolor": "white",
            "linecolor": "white",
            "ticks": ""
           },
           "bgcolor": "#E5ECF6",
           "radialaxis": {
            "gridcolor": "white",
            "linecolor": "white",
            "ticks": ""
           }
          },
          "scene": {
           "xaxis": {
            "backgroundcolor": "#E5ECF6",
            "gridcolor": "white",
            "gridwidth": 2,
            "linecolor": "white",
            "showbackground": true,
            "ticks": "",
            "zerolinecolor": "white"
           },
           "yaxis": {
            "backgroundcolor": "#E5ECF6",
            "gridcolor": "white",
            "gridwidth": 2,
            "linecolor": "white",
            "showbackground": true,
            "ticks": "",
            "zerolinecolor": "white"
           },
           "zaxis": {
            "backgroundcolor": "#E5ECF6",
            "gridcolor": "white",
            "gridwidth": 2,
            "linecolor": "white",
            "showbackground": true,
            "ticks": "",
            "zerolinecolor": "white"
           }
          },
          "shapedefaults": {
           "line": {
            "color": "#2a3f5f"
           }
          },
          "ternary": {
           "aaxis": {
            "gridcolor": "white",
            "linecolor": "white",
            "ticks": ""
           },
           "baxis": {
            "gridcolor": "white",
            "linecolor": "white",
            "ticks": ""
           },
           "bgcolor": "#E5ECF6",
           "caxis": {
            "gridcolor": "white",
            "linecolor": "white",
            "ticks": ""
           }
          },
          "title": {
           "x": 0.05
          },
          "xaxis": {
           "automargin": true,
           "gridcolor": "white",
           "linecolor": "white",
           "ticks": "",
           "title": {
            "standoff": 15
           },
           "zerolinecolor": "white",
           "zerolinewidth": 2
          },
          "yaxis": {
           "automargin": true,
           "gridcolor": "white",
           "linecolor": "white",
           "ticks": "",
           "title": {
            "standoff": 15
           },
           "zerolinecolor": "white",
           "zerolinewidth": 2
          }
         }
        },
        "title": {
         "text": "Average Spend by Category"
        },
        "xaxis": {
         "anchor": "y",
         "domain": [
          0,
          1
         ],
         "title": {
          "text": "Category"
         }
        },
        "yaxis": {
         "anchor": "x",
         "domain": [
          0,
          1
         ],
         "title": {
          "text": "Average Expenditure ($)"
         }
        }
       }
      }
     },
     "metadata": {},
     "output_type": "display_data"
    },
    {
     "data": {
      "application/vnd.plotly.v1+json": {
       "config": {
        "plotlyServerURL": "https://plot.ly"
       },
       "data": [
        {
         "alignmentgroup": "True",
         "hovertemplate": "Category=%{x}<br>Total Expenditure ($)=%{y}<extra></extra>",
         "legendgroup": "",
         "marker": {
          "color": "#636efa",
          "pattern": {
           "shape": ""
          }
         },
         "name": "",
         "offsetgroup": "",
         "orientation": "v",
         "showlegend": false,
         "textposition": "auto",
         "type": "bar",
         "x": [
          "Dining Out",
          "Entertainment",
          "Groceries",
          "Health",
          "Transportation",
          "Utilities"
         ],
         "xaxis": "x",
         "y": [
          33407.86,
          30209.94,
          32965.54,
          34812.27,
          35263.36,
          34830.48
         ],
         "yaxis": "y"
        }
       ],
       "layout": {
        "barmode": "relative",
        "legend": {
         "tracegroupgap": 0
        },
        "template": {
         "data": {
          "bar": [
           {
            "error_x": {
             "color": "#2a3f5f"
            },
            "error_y": {
             "color": "#2a3f5f"
            },
            "marker": {
             "line": {
              "color": "#E5ECF6",
              "width": 0.5
             },
             "pattern": {
              "fillmode": "overlay",
              "size": 10,
              "solidity": 0.2
             }
            },
            "type": "bar"
           }
          ],
          "barpolar": [
           {
            "marker": {
             "line": {
              "color": "#E5ECF6",
              "width": 0.5
             },
             "pattern": {
              "fillmode": "overlay",
              "size": 10,
              "solidity": 0.2
             }
            },
            "type": "barpolar"
           }
          ],
          "carpet": [
           {
            "aaxis": {
             "endlinecolor": "#2a3f5f",
             "gridcolor": "white",
             "linecolor": "white",
             "minorgridcolor": "white",
             "startlinecolor": "#2a3f5f"
            },
            "baxis": {
             "endlinecolor": "#2a3f5f",
             "gridcolor": "white",
             "linecolor": "white",
             "minorgridcolor": "white",
             "startlinecolor": "#2a3f5f"
            },
            "type": "carpet"
           }
          ],
          "choropleth": [
           {
            "colorbar": {
             "outlinewidth": 0,
             "ticks": ""
            },
            "type": "choropleth"
           }
          ],
          "contour": [
           {
            "colorbar": {
             "outlinewidth": 0,
             "ticks": ""
            },
            "colorscale": [
             [
              0,
              "#0d0887"
             ],
             [
              0.1111111111111111,
              "#46039f"
             ],
             [
              0.2222222222222222,
              "#7201a8"
             ],
             [
              0.3333333333333333,
              "#9c179e"
             ],
             [
              0.4444444444444444,
              "#bd3786"
             ],
             [
              0.5555555555555556,
              "#d8576b"
             ],
             [
              0.6666666666666666,
              "#ed7953"
             ],
             [
              0.7777777777777778,
              "#fb9f3a"
             ],
             [
              0.8888888888888888,
              "#fdca26"
             ],
             [
              1,
              "#f0f921"
             ]
            ],
            "type": "contour"
           }
          ],
          "contourcarpet": [
           {
            "colorbar": {
             "outlinewidth": 0,
             "ticks": ""
            },
            "type": "contourcarpet"
           }
          ],
          "heatmap": [
           {
            "colorbar": {
             "outlinewidth": 0,
             "ticks": ""
            },
            "colorscale": [
             [
              0,
              "#0d0887"
             ],
             [
              0.1111111111111111,
              "#46039f"
             ],
             [
              0.2222222222222222,
              "#7201a8"
             ],
             [
              0.3333333333333333,
              "#9c179e"
             ],
             [
              0.4444444444444444,
              "#bd3786"
             ],
             [
              0.5555555555555556,
              "#d8576b"
             ],
             [
              0.6666666666666666,
              "#ed7953"
             ],
             [
              0.7777777777777778,
              "#fb9f3a"
             ],
             [
              0.8888888888888888,
              "#fdca26"
             ],
             [
              1,
              "#f0f921"
             ]
            ],
            "type": "heatmap"
           }
          ],
          "heatmapgl": [
           {
            "colorbar": {
             "outlinewidth": 0,
             "ticks": ""
            },
            "colorscale": [
             [
              0,
              "#0d0887"
             ],
             [
              0.1111111111111111,
              "#46039f"
             ],
             [
              0.2222222222222222,
              "#7201a8"
             ],
             [
              0.3333333333333333,
              "#9c179e"
             ],
             [
              0.4444444444444444,
              "#bd3786"
             ],
             [
              0.5555555555555556,
              "#d8576b"
             ],
             [
              0.6666666666666666,
              "#ed7953"
             ],
             [
              0.7777777777777778,
              "#fb9f3a"
             ],
             [
              0.8888888888888888,
              "#fdca26"
             ],
             [
              1,
              "#f0f921"
             ]
            ],
            "type": "heatmapgl"
           }
          ],
          "histogram": [
           {
            "marker": {
             "pattern": {
              "fillmode": "overlay",
              "size": 10,
              "solidity": 0.2
             }
            },
            "type": "histogram"
           }
          ],
          "histogram2d": [
           {
            "colorbar": {
             "outlinewidth": 0,
             "ticks": ""
            },
            "colorscale": [
             [
              0,
              "#0d0887"
             ],
             [
              0.1111111111111111,
              "#46039f"
             ],
             [
              0.2222222222222222,
              "#7201a8"
             ],
             [
              0.3333333333333333,
              "#9c179e"
             ],
             [
              0.4444444444444444,
              "#bd3786"
             ],
             [
              0.5555555555555556,
              "#d8576b"
             ],
             [
              0.6666666666666666,
              "#ed7953"
             ],
             [
              0.7777777777777778,
              "#fb9f3a"
             ],
             [
              0.8888888888888888,
              "#fdca26"
             ],
             [
              1,
              "#f0f921"
             ]
            ],
            "type": "histogram2d"
           }
          ],
          "histogram2dcontour": [
           {
            "colorbar": {
             "outlinewidth": 0,
             "ticks": ""
            },
            "colorscale": [
             [
              0,
              "#0d0887"
             ],
             [
              0.1111111111111111,
              "#46039f"
             ],
             [
              0.2222222222222222,
              "#7201a8"
             ],
             [
              0.3333333333333333,
              "#9c179e"
             ],
             [
              0.4444444444444444,
              "#bd3786"
             ],
             [
              0.5555555555555556,
              "#d8576b"
             ],
             [
              0.6666666666666666,
              "#ed7953"
             ],
             [
              0.7777777777777778,
              "#fb9f3a"
             ],
             [
              0.8888888888888888,
              "#fdca26"
             ],
             [
              1,
              "#f0f921"
             ]
            ],
            "type": "histogram2dcontour"
           }
          ],
          "mesh3d": [
           {
            "colorbar": {
             "outlinewidth": 0,
             "ticks": ""
            },
            "type": "mesh3d"
           }
          ],
          "parcoords": [
           {
            "line": {
             "colorbar": {
              "outlinewidth": 0,
              "ticks": ""
             }
            },
            "type": "parcoords"
           }
          ],
          "pie": [
           {
            "automargin": true,
            "type": "pie"
           }
          ],
          "scatter": [
           {
            "fillpattern": {
             "fillmode": "overlay",
             "size": 10,
             "solidity": 0.2
            },
            "type": "scatter"
           }
          ],
          "scatter3d": [
           {
            "line": {
             "colorbar": {
              "outlinewidth": 0,
              "ticks": ""
             }
            },
            "marker": {
             "colorbar": {
              "outlinewidth": 0,
              "ticks": ""
             }
            },
            "type": "scatter3d"
           }
          ],
          "scattercarpet": [
           {
            "marker": {
             "colorbar": {
              "outlinewidth": 0,
              "ticks": ""
             }
            },
            "type": "scattercarpet"
           }
          ],
          "scattergeo": [
           {
            "marker": {
             "colorbar": {
              "outlinewidth": 0,
              "ticks": ""
             }
            },
            "type": "scattergeo"
           }
          ],
          "scattergl": [
           {
            "marker": {
             "colorbar": {
              "outlinewidth": 0,
              "ticks": ""
             }
            },
            "type": "scattergl"
           }
          ],
          "scattermapbox": [
           {
            "marker": {
             "colorbar": {
              "outlinewidth": 0,
              "ticks": ""
             }
            },
            "type": "scattermapbox"
           }
          ],
          "scatterpolar": [
           {
            "marker": {
             "colorbar": {
              "outlinewidth": 0,
              "ticks": ""
             }
            },
            "type": "scatterpolar"
           }
          ],
          "scatterpolargl": [
           {
            "marker": {
             "colorbar": {
              "outlinewidth": 0,
              "ticks": ""
             }
            },
            "type": "scatterpolargl"
           }
          ],
          "scatterternary": [
           {
            "marker": {
             "colorbar": {
              "outlinewidth": 0,
              "ticks": ""
             }
            },
            "type": "scatterternary"
           }
          ],
          "surface": [
           {
            "colorbar": {
             "outlinewidth": 0,
             "ticks": ""
            },
            "colorscale": [
             [
              0,
              "#0d0887"
             ],
             [
              0.1111111111111111,
              "#46039f"
             ],
             [
              0.2222222222222222,
              "#7201a8"
             ],
             [
              0.3333333333333333,
              "#9c179e"
             ],
             [
              0.4444444444444444,
              "#bd3786"
             ],
             [
              0.5555555555555556,
              "#d8576b"
             ],
             [
              0.6666666666666666,
              "#ed7953"
             ],
             [
              0.7777777777777778,
              "#fb9f3a"
             ],
             [
              0.8888888888888888,
              "#fdca26"
             ],
             [
              1,
              "#f0f921"
             ]
            ],
            "type": "surface"
           }
          ],
          "table": [
           {
            "cells": {
             "fill": {
              "color": "#EBF0F8"
             },
             "line": {
              "color": "white"
             }
            },
            "header": {
             "fill": {
              "color": "#C8D4E3"
             },
             "line": {
              "color": "white"
             }
            },
            "type": "table"
           }
          ]
         },
         "layout": {
          "annotationdefaults": {
           "arrowcolor": "#2a3f5f",
           "arrowhead": 0,
           "arrowwidth": 1
          },
          "autotypenumbers": "strict",
          "coloraxis": {
           "colorbar": {
            "outlinewidth": 0,
            "ticks": ""
           }
          },
          "colorscale": {
           "diverging": [
            [
             0,
             "#8e0152"
            ],
            [
             0.1,
             "#c51b7d"
            ],
            [
             0.2,
             "#de77ae"
            ],
            [
             0.3,
             "#f1b6da"
            ],
            [
             0.4,
             "#fde0ef"
            ],
            [
             0.5,
             "#f7f7f7"
            ],
            [
             0.6,
             "#e6f5d0"
            ],
            [
             0.7,
             "#b8e186"
            ],
            [
             0.8,
             "#7fbc41"
            ],
            [
             0.9,
             "#4d9221"
            ],
            [
             1,
             "#276419"
            ]
           ],
           "sequential": [
            [
             0,
             "#0d0887"
            ],
            [
             0.1111111111111111,
             "#46039f"
            ],
            [
             0.2222222222222222,
             "#7201a8"
            ],
            [
             0.3333333333333333,
             "#9c179e"
            ],
            [
             0.4444444444444444,
             "#bd3786"
            ],
            [
             0.5555555555555556,
             "#d8576b"
            ],
            [
             0.6666666666666666,
             "#ed7953"
            ],
            [
             0.7777777777777778,
             "#fb9f3a"
            ],
            [
             0.8888888888888888,
             "#fdca26"
            ],
            [
             1,
             "#f0f921"
            ]
           ],
           "sequentialminus": [
            [
             0,
             "#0d0887"
            ],
            [
             0.1111111111111111,
             "#46039f"
            ],
            [
             0.2222222222222222,
             "#7201a8"
            ],
            [
             0.3333333333333333,
             "#9c179e"
            ],
            [
             0.4444444444444444,
             "#bd3786"
            ],
            [
             0.5555555555555556,
             "#d8576b"
            ],
            [
             0.6666666666666666,
             "#ed7953"
            ],
            [
             0.7777777777777778,
             "#fb9f3a"
            ],
            [
             0.8888888888888888,
             "#fdca26"
            ],
            [
             1,
             "#f0f921"
            ]
           ]
          },
          "colorway": [
           "#636efa",
           "#EF553B",
           "#00cc96",
           "#ab63fa",
           "#FFA15A",
           "#19d3f3",
           "#FF6692",
           "#B6E880",
           "#FF97FF",
           "#FECB52"
          ],
          "font": {
           "color": "#2a3f5f"
          },
          "geo": {
           "bgcolor": "white",
           "lakecolor": "white",
           "landcolor": "#E5ECF6",
           "showlakes": true,
           "showland": true,
           "subunitcolor": "white"
          },
          "hoverlabel": {
           "align": "left"
          },
          "hovermode": "closest",
          "mapbox": {
           "style": "light"
          },
          "paper_bgcolor": "white",
          "plot_bgcolor": "#E5ECF6",
          "polar": {
           "angularaxis": {
            "gridcolor": "white",
            "linecolor": "white",
            "ticks": ""
           },
           "bgcolor": "#E5ECF6",
           "radialaxis": {
            "gridcolor": "white",
            "linecolor": "white",
            "ticks": ""
           }
          },
          "scene": {
           "xaxis": {
            "backgroundcolor": "#E5ECF6",
            "gridcolor": "white",
            "gridwidth": 2,
            "linecolor": "white",
            "showbackground": true,
            "ticks": "",
            "zerolinecolor": "white"
           },
           "yaxis": {
            "backgroundcolor": "#E5ECF6",
            "gridcolor": "white",
            "gridwidth": 2,
            "linecolor": "white",
            "showbackground": true,
            "ticks": "",
            "zerolinecolor": "white"
           },
           "zaxis": {
            "backgroundcolor": "#E5ECF6",
            "gridcolor": "white",
            "gridwidth": 2,
            "linecolor": "white",
            "showbackground": true,
            "ticks": "",
            "zerolinecolor": "white"
           }
          },
          "shapedefaults": {
           "line": {
            "color": "#2a3f5f"
           }
          },
          "ternary": {
           "aaxis": {
            "gridcolor": "white",
            "linecolor": "white",
            "ticks": ""
           },
           "baxis": {
            "gridcolor": "white",
            "linecolor": "white",
            "ticks": ""
           },
           "bgcolor": "#E5ECF6",
           "caxis": {
            "gridcolor": "white",
            "linecolor": "white",
            "ticks": ""
           }
          },
          "title": {
           "x": 0.05
          },
          "xaxis": {
           "automargin": true,
           "gridcolor": "white",
           "linecolor": "white",
           "ticks": "",
           "title": {
            "standoff": 15
           },
           "zerolinecolor": "white",
           "zerolinewidth": 2
          },
          "yaxis": {
           "automargin": true,
           "gridcolor": "white",
           "linecolor": "white",
           "ticks": "",
           "title": {
            "standoff": 15
           },
           "zerolinecolor": "white",
           "zerolinewidth": 2
          }
         }
        },
        "title": {
         "text": "Total Spend by Category Over the 5 Years"
        },
        "xaxis": {
         "anchor": "y",
         "domain": [
          0,
          1
         ],
         "title": {
          "text": "Category"
         }
        },
        "yaxis": {
         "anchor": "x",
         "domain": [
          0,
          1
         ],
         "title": {
          "text": "Total Expenditure ($)"
         }
        }
       }
      }
     },
     "metadata": {},
     "output_type": "display_data"
    }
   ],
   "source": [
    "df\n",
    "\n",
    "# Convert the Date column to datetime format for easier manipulation\n",
    "df[\"Date\"] = pd.to_datetime(df[\"Date\"], infer_datetime_format=True)\n",
    "\n",
    "# Aggregate data by month for the first chart\n",
    "monthly_expenditure = df.resample(\"M\", on=\"Date\").sum(numeric_only=True).reset_index()\n",
    "\n",
    "# Generate Monthly Expenditure Over Time chart\n",
    "fig_monthly_expenditure = px.line(monthly_expenditure, x='Date', y='Amount', title='Monthly Expenditure Over Time', labels={'Amount': 'Total Expenditure ($)'})\n",
    "\n",
    "# Aggregate data for the average spend by category\n",
    "avg_spend_by_category = df.groupby(\"Category\").mean(numeric_only=True).reset_index()\n",
    "\n",
    "# Generate Average Spend by Category chart\n",
    "fig_avg_spend_by_category = px.bar(avg_spend_by_category, x='Category', y='Amount', title='Average Spend by Category', labels={'Amount': 'Average Expenditure ($)'})\n",
    "\n",
    "# Aggregate data for the total spend by category over the 5 years\n",
    "total_spend_by_category = df.groupby(\"Category\").sum(numeric_only=True).reset_index()\n",
    "\n",
    "# Generate Total Spend by Category Over the 5 Years chart\n",
    "fig_total_spend_by_category = px.bar(total_spend_by_category, x='Category', y='Amount', title='Total Spend by Category Over the 5 Years', labels={'Amount': 'Total Expenditure ($)'})\n",
    "\n",
    "# Display the figures\n",
    "fig_monthly_expenditure.show()\n",
    "fig_avg_spend_by_category.show()\n",
    "fig_total_spend_by_category.show()"
   ]
  },
  {
   "cell_type": "code",
   "execution_count": 4,
   "metadata": {},
   "outputs": [],
   "source": [
    "fig_monthly_expenditure.to_image(format=\"png\")"
   ]
  },
  {
   "cell_type": "code",
   "execution_count": 3,
   "metadata": {},
   "outputs": [],
   "source": [
    "fig_monthly_expenditure.write_image(\"fig1.png\")"
   ]
  },
  {
   "cell_type": "code",
   "execution_count": 8,
   "metadata": {},
   "outputs": [
    {
     "data": {
      "text/plain": [
       "array(['Transportation', 'Entertainment', 'Dining Out', 'Utilities',\n",
       "       'Health', 'Groceries'], dtype=object)"
      ]
     },
     "execution_count": 8,
     "metadata": {},
     "output_type": "execute_result"
    }
   ],
   "source": [
    "# all date are unique and no nan values\n",
    "# total 6 categories ['Transportation', 'Entertainment', 'Dining Out', 'Utilities','Health', 'Groceries']\n",
    "# \n",
    "df[\"Category\"].unique()"
   ]
  },
  {
   "cell_type": "code",
   "execution_count": 4,
   "metadata": {},
   "outputs": [],
   "source": [
    "fig = px.bar(df, x=\"Date\", y=\"Amount\")\n",
    "chart_json = fig.to_json()"
   ]
  },
  {
   "cell_type": "code",
   "execution_count": 6,
   "metadata": {},
   "outputs": [
    {
     "data": {
      "text/plain": [
       "'{\"data\":[{\"alignmentgroup\":\"True\",\"hovertemplate\":\"Date=%{x}\\\\u003cbr\\\\u003eAmount=%{y}\\\\u003cextra\\\\u003e\\\\u003c\\\\u002fextra\\\\u003e\",\"legendgroup\":\"\",\"marker\":{\"color\":\"#636efa\",\"pattern\":{\"shape\":\"\"}},\"name\":\"\",\"offsetgroup\":\"\",\"orientation\":\"v\",\"showlegend\":false,\"textposition\":\"auto\",\"x\":[\"1\\\\u002f1\\\\u002f2019\",\"2\\\\u002f1\\\\u002f2019\",\"3\\\\u002f1\\\\u002f2019\",\"4\\\\u002f1\\\\u002f2019\",\"5\\\\u002f1\\\\u002f2019\",\"6\\\\u002f1\\\\u002f2019\",\"7\\\\u002f1\\\\u002f2019\",\"8\\\\u002f1\\\\u002f2019\",\"9\\\\u002f1\\\\u002f2019\",\"10\\\\u002f1\\\\u002f2019\",\"11\\\\u002f1\\\\u002f2019\",\"12\\\\u002f1\\\\u002f2019\",\"13\\\\u002f1\\\\u002f2019\",\"14\\\\u002f1\\\\u002f2019\",\"15\\\\u002f1\\\\u002f2019\",\"16\\\\u002f1\\\\u002f2019\",\"17\\\\u002f1\\\\u002f2019\",\"18\\\\u002f1\\\\u002f2019\",\"19\\\\u002f1\\\\u002f2019\",\"20\\\\u002f1\\\\u002f2019\",\"21\\\\u002f1\\\\u002f2019\",\"22\\\\u002f1\\\\u002f2019\",\"23\\\\u002f1\\\\u002f2019\",\"24\\\\u002f1\\\\u002f2019\",\"25\\\\u002f1\\\\u002f2019\",\"26\\\\u002f1\\\\u002f2019\",\"27\\\\u002f1\\\\u002f2019\",\"28\\\\u002f1\\\\u002f2019\",\"29\\\\u002f1\\\\u002f2019\",\"30\\\\u002f1\\\\u002f2019\",\"31\\\\u002f1\\\\u002f2019\",\"1\\\\u002f2\\\\u002f2019\",\"2\\\\u002f2\\\\u002f2019\",\"3\\\\u002f2\\\\u002f2019\",\"4\\\\u002f2\\\\u002f2019\",\"5\\\\u002f2\\\\u002f2019\",\"6\\\\u002f2\\\\u002f2019\",\"7\\\\u002f2\\\\u002f2019\",\"8\\\\u002f2\\\\u002f2019\",\"9\\\\u002f2\\\\u002f2019\",\"10\\\\u002f2\\\\u002f2019\",\"11\\\\u002f2\\\\u002f2019\",\"12\\\\u002f2\\\\u002f2019\",\"13\\\\u002f2\\\\u002f2019\",\"14\\\\u002f2\\\\u002f2019\",\"15\\\\u002f2\\\\u002f2019\",\"16\\\\u002f2\\\\u002f2019\",\"17\\\\u002f2\\\\u002f2019\",\"18\\\\u002f2\\\\u002f2019\",\"19\\\\u002f2\\\\u002f2019\",\"20\\\\u002f2\\\\u002f2019\",\"21\\\\u002f2\\\\u002f2019\",\"22\\\\u002f2\\\\u002f2019\",\"23\\\\u002f2\\\\u002f2019\",\"24\\\\u002f2\\\\u002f2019\",\"25\\\\u002f2\\\\u002f2019\",\"26\\\\u002f2\\\\u002f2019\",\"27\\\\u002f2\\\\u002f2019\",\"28\\\\u002f2\\\\u002f2019\",\"1\\\\u002f3\\\\u002f2019\",\"2\\\\u002f3\\\\u002f2019\",\"3\\\\u002f3\\\\u002f2019\",\"4\\\\u002f3\\\\u002f2019\",\"5\\\\u002f3\\\\u002f2019\",\"6\\\\u002f3\\\\u002f2019\",\"7\\\\u002f3\\\\u002f2019\",\"8\\\\u002f3\\\\u002f2019\",\"9\\\\u002f3\\\\u002f2019\",\"10\\\\u002f3\\\\u002f2019\",\"11\\\\u002f3\\\\u002f2019\",\"12\\\\u002f3\\\\u002f2019\",\"13\\\\u002f3\\\\u002f2019\",\"14\\\\u002f3\\\\u002f2019\",\"15\\\\u002f3\\\\u002f2019\",\"16\\\\u002f3\\\\u002f2019\",\"17\\\\u002f3\\\\u002f2019\",\"18\\\\u002f3\\\\u002f2019\",\"19\\\\u002f3\\\\u002f2019\",\"20\\\\u002f3\\\\u002f2019\",\"21\\\\u002f3\\\\u002f2019\",\"22\\\\u002f3\\\\u002f2019\",\"23\\\\u002f3\\\\u002f2019\",\"24\\\\u002f3\\\\u002f2019\",\"25\\\\u002f3\\\\u002f2019\",\"26\\\\u002f3\\\\u002f2019\",\"27\\\\u002f3\\\\u002f2019\",\"28\\\\u002f3\\\\u002f2019\",\"29\\\\u002f3\\\\u002f2019\",\"30\\\\u002f3\\\\u002f2019\",\"31\\\\u002f3\\\\u002f2019\",\"1\\\\u002f4\\\\u002f2019\",\"2\\\\u002f4\\\\u002f2019\",\"3\\\\u002f4\\\\u002f2019\",\"4\\\\u002f4\\\\u002f2019\",\"5\\\\u002f4\\\\u002f2019\",\"6\\\\u002f4\\\\u002f2019\",\"7\\\\u002f4\\\\u002f2019\",\"8\\\\u002f4\\\\u002f2019\",\"9\\\\u002f4\\\\u002f2019\",\"10\\\\u002f4\\\\u002f2019\",\"11\\\\u002f4\\\\u002f2019\",\"12\\\\u002f4\\\\u002f2019\",\"13\\\\u002f4\\\\u002f2019\",\"14\\\\u002f4\\\\u002f2019\",\"15\\\\u002f4\\\\u002f2019\",\"16\\\\u002f4\\\\u002f2019\",\"17\\\\u002f4\\\\u002f2019\",\"18\\\\u002f4\\\\u002f2019\",\"19\\\\u002f4\\\\u002f2019\",\"20\\\\u002f4\\\\u002f2019\",\"21\\\\u002f4\\\\u002f2019\",\"22\\\\u002f4\\\\u002f2019\",\"23\\\\u002f4\\\\u002f2019\",\"24\\\\u002f4\\\\u002f2019\",\"25\\\\u002f4\\\\u002f2019\",\"26\\\\u002f4\\\\u002f2019\",\"27\\\\u002f4\\\\u002f2019\",\"28\\\\u002f4\\\\u002f2019\",\"29\\\\u002f4\\\\u002f2019\",\"30\\\\u002f4\\\\u002f2019\",\"1\\\\u002f5\\\\u002f2019\",\"2\\\\u002f5\\\\u002f2019\",\"3\\\\u002f5\\\\u002f2019\",\"4\\\\u002f5\\\\u002f2019\",\"5\\\\u002f5\\\\u002f2019\",\"6\\\\u002f5\\\\u002f2019\",\"7\\\\u002f5\\\\u002f2019\",\"8\\\\u002f5\\\\u002f2019\",\"9\\\\u002f5\\\\u002f2019\",\"10\\\\u002f5\\\\u002f2019\",\"11\\\\u002f5\\\\u002f2019\",\"12\\\\u002f5\\\\u002f2019\",\"13\\\\u002f5\\\\u002f2019\",\"14\\\\u002f5\\\\u002f2019\",\"15\\\\u002f5\\\\u002f2019\",\"16\\\\u002f5\\\\u002f2019\",\"17\\\\u002f5\\\\u002f2019\",\"18\\\\u002f5\\\\u002f2019\",\"19\\\\u002f5\\\\u002f2019\",\"20\\\\u002f5\\\\u002f2019\",\"21\\\\u002f5\\\\u002f2019\",\"22\\\\u002f5\\\\u002f2019\",\"23\\\\u002f5\\\\u002f2019\",\"24\\\\u002f5\\\\u002f2019\",\"25\\\\u002f5\\\\u002f2019\",\"26\\\\u002f5\\\\u002f2019\",\"27\\\\u002f5\\\\u002f2019\",\"28\\\\u002f5\\\\u002f2019\",\"29\\\\u002f5\\\\u002f2019\",\"30\\\\u002f5\\\\u002f2019\",\"31\\\\u002f5\\\\u002f2019\",\"1\\\\u002f6\\\\u002f2019\",\"2\\\\u002f6\\\\u002f2019\",\"3\\\\u002f6\\\\u002f2019\",\"4\\\\u002f6\\\\u002f2019\",\"5\\\\u002f6\\\\u002f2019\",\"6\\\\u002f6\\\\u002f2019\",\"7\\\\u002f6\\\\u002f2019\",\"8\\\\u002f6\\\\u002f2019\",\"9\\\\u002f6\\\\u002f2019\",\"10\\\\u002f6\\\\u002f2019\",\"11\\\\u002f6\\\\u002f2019\",\"12\\\\u002f6\\\\u002f2019\",\"13\\\\u002f6\\\\u002f2019\",\"14\\\\u002f6\\\\u002f2019\",\"15\\\\u002f6\\\\u002f2019\",\"16\\\\u002f6\\\\u002f2019\",\"17\\\\u002f6\\\\u002f2019\",\"18\\\\u002f6\\\\u002f2019\",\"19\\\\u002f6\\\\u002f2019\",\"20\\\\u002f6\\\\u002f2019\",\"21\\\\u002f6\\\\u002f2019\",\"22\\\\u002f6\\\\u002f2019\",\"23\\\\u002f6\\\\u002f2019\",\"24\\\\u002f6\\\\u002f2019\",\"25\\\\u002f6\\\\u002f2019\",\"26\\\\u002f6\\\\u002f2019\",\"27\\\\u002f6\\\\u002f2019\",\"28\\\\u002f6\\\\u002f2019\",\"29\\\\u002f6\\\\u002f2019\",\"30\\\\u002f6\\\\u002f2019\",\"1\\\\u002f7\\\\u002f2019\",\"2\\\\u002f7\\\\u002f2019\",\"3\\\\u002f7\\\\u002f2019\",\"4\\\\u002f7\\\\u002f2019\",\"5\\\\u002f7\\\\u002f2019\",\"6\\\\u002f7\\\\u002f2019\",\"7\\\\u002f7\\\\u002f2019\",\"8\\\\u002f7\\\\u002f2019\",\"9\\\\u002f7\\\\u002f2019\",\"10\\\\u002f7\\\\u002f2019\",\"11\\\\u002f7\\\\u002f2019\",\"12\\\\u002f7\\\\u002f2019\",\"13\\\\u002f7\\\\u002f2019\",\"14\\\\u002f7\\\\u002f2019\",\"15\\\\u002f7\\\\u002f2019\",\"16\\\\u002f7\\\\u002f2019\",\"17\\\\u002f7\\\\u002f2019\",\"18\\\\u002f7\\\\u002f2019\",\"19\\\\u002f7\\\\u002f2019\",\"20\\\\u002f7\\\\u002f2019\",\"21\\\\u002f7\\\\u002f2019\",\"22\\\\u002f7\\\\u002f2019\",\"23\\\\u002f7\\\\u002f2019\",\"24\\\\u002f7\\\\u002f2019\",\"25\\\\u002f7\\\\u002f2019\",\"26\\\\u002f7\\\\u002f2019\",\"27\\\\u002f7\\\\u002f2019\",\"28\\\\u002f7\\\\u002f2019\",\"29\\\\u002f7\\\\u002f2019\",\"30\\\\u002f7\\\\u002f2019\",\"31\\\\u002f7\\\\u002f2019\",\"1\\\\u002f8\\\\u002f2019\",\"2\\\\u002f8\\\\u002f2019\",\"3\\\\u002f8\\\\u002f2019\",\"4\\\\u002f8\\\\u002f2019\",\"5\\\\u002f8\\\\u002f2019\",\"6\\\\u002f8\\\\u002f2019\",\"7\\\\u002f8\\\\u002f2019\",\"8\\\\u002f8\\\\u002f2019\",\"9\\\\u002f8\\\\u002f2019\",\"10\\\\u002f8\\\\u002f2019\",\"11\\\\u002f8\\\\u002f2019\",\"12\\\\u002f8\\\\u002f2019\",\"13\\\\u002f8\\\\u002f2019\",\"14\\\\u002f8\\\\u002f2019\",\"15\\\\u002f8\\\\u002f2019\",\"16\\\\u002f8\\\\u002f2019\",\"17\\\\u002f8\\\\u002f2019\",\"18\\\\u002f8\\\\u002f2019\",\"19\\\\u002f8\\\\u002f2019\",\"20\\\\u002f8\\\\u002f2019\",\"21\\\\u002f8\\\\u002f2019\",\"22\\\\u002f8\\\\u002f2019\",\"23\\\\u002f8\\\\u002f2019\",\"24\\\\u002f8\\\\u002f2019\",\"25\\\\u002f8\\\\u002f2019\",\"26\\\\u002f8\\\\u002f2019\",\"27\\\\u002f8\\\\u002f2019\",\"28\\\\u002f8\\\\u002f2019\",\"29\\\\u002f8\\\\u002f2019\",\"30\\\\u002f8\\\\u002f2019\",\"31\\\\u002f8\\\\u002f2019\",\"1\\\\u002f9\\\\u002f2019\",\"2\\\\u002f9\\\\u002f2019\",\"3\\\\u002f9\\\\u002f2019\",\"4\\\\u002f9\\\\u002f2019\",\"5\\\\u002f9\\\\u002f2019\",\"6\\\\u002f9\\\\u002f2019\",\"7\\\\u002f9\\\\u002f2019\",\"8\\\\u002f9\\\\u002f2019\",\"9\\\\u002f9\\\\u002f2019\",\"10\\\\u002f9\\\\u002f2019\",\"11\\\\u002f9\\\\u002f2019\",\"12\\\\u002f9\\\\u002f2019\",\"13\\\\u002f9\\\\u002f2019\",\"14\\\\u002f9\\\\u002f2019\",\"15\\\\u002f9\\\\u002f2019\",\"16\\\\u002f9\\\\u002f2019\",\"17\\\\u002f9\\\\u002f2019\",\"18\\\\u002f9\\\\u002f2019\",\"19\\\\u002f9\\\\u002f2019\",\"20\\\\u002f9\\\\u002f2019\",\"21\\\\u002f9\\\\u002f2019\",\"22\\\\u002f9\\\\u002f2019\",\"23\\\\u002f9\\\\u002f2019\",\"24\\\\u002f9\\\\u002f2019\",\"25\\\\u002f9\\\\u002f2019\",\"26\\\\u002f9\\\\u002f2019\",\"27\\\\u002f9\\\\u002f2019\",\"28\\\\u002f9\\\\u002f2019\",\"29\\\\u002f9\\\\u002f2019\",\"30\\\\u002f9\\\\u002f2019\",\"1\\\\u002f10\\\\u002f2019\",\"2\\\\u002f10\\\\u002f2019\",\"3\\\\u002f10\\\\u002f2019\",\"4\\\\u002f10\\\\u002f2019\",\"5\\\\u002f10\\\\u002f2019\",\"6\\\\u002f10\\\\u002f2019\",\"7\\\\u002f10\\\\u002f2019\",\"8\\\\u002f10\\\\u002f2019\",\"9\\\\u002f10\\\\u002f2019\",\"10\\\\u002f10\\\\u002f2019\",\"11\\\\u002f10\\\\u002f2019\",\"12\\\\u002f10\\\\u002f2019\",\"13\\\\u002f10\\\\u002f2019\",\"14\\\\u002f10\\\\u002f2019\",\"15\\\\u002f10\\\\u002f2019\",\"16\\\\u002f10\\\\u002f2019\",\"17\\\\u002f10\\\\u002f2019\",\"18\\\\u002f10\\\\u002f2019\",\"19\\\\u002f10\\\\u002f2019\",\"20\\\\u002f10\\\\u002f2019\",\"21\\\\u002f10\\\\u002f2019\",\"22\\\\u002f10\\\\u002f2019\",\"23\\\\u002f10\\\\u002f2019\",\"24\\\\u002f10\\\\u002f2019\",\"25\\\\u002f10\\\\u002f2019\",\"26\\\\u002f10\\\\u002f2019\",\"27\\\\u002f10\\\\u002f2019\",\"28\\\\u002f10\\\\u002f2019\",\"29\\\\u002f10\\\\u002f2019\",\"30\\\\u002f10\\\\u002f2019\",\"31\\\\u002f10\\\\u002f2019\",\"1\\\\u002f11\\\\u002f2019\",\"2\\\\u002f11\\\\u002f2019\",\"3\\\\u002f11\\\\u002f2019\",\"4\\\\u002f11\\\\u002f2019\",\"5\\\\u002f11\\\\u002f2019\",\"6\\\\u002f11\\\\u002f2019\",\"7\\\\u002f11\\\\u002f2019\",\"8\\\\u002f11\\\\u002f2019\",\"9\\\\u002f11\\\\u002f2019\",\"10\\\\u002f11\\\\u002f2019\",\"11\\\\u002f11\\\\u002f2019\",\"12\\\\u002f11\\\\u002f2019\",\"13\\\\u002f11\\\\u002f2019\",\"14\\\\u002f11\\\\u002f2019\",\"15\\\\u002f11\\\\u002f2019\",\"16\\\\u002f11\\\\u002f2019\",\"17\\\\u002f11\\\\u002f2019\",\"18\\\\u002f11\\\\u002f2019\",\"19\\\\u002f11\\\\u002f2019\",\"20\\\\u002f11\\\\u002f2019\",\"21\\\\u002f11\\\\u002f2019\",\"22\\\\u002f11\\\\u002f2019\",\"23\\\\u002f11\\\\u002f2019\",\"24\\\\u002f11\\\\u002f2019\",\"25\\\\u002f11\\\\u002f2019\",\"26\\\\u002f11\\\\u002f2019\",\"27\\\\u002f11\\\\u002f2019\",\"28\\\\u002f11\\\\u002f2019\",\"29\\\\u002f11\\\\u002f2019\",\"30\\\\u002f11\\\\u002f2019\",\"1\\\\u002f12\\\\u002f2019\",\"2\\\\u002f12\\\\u002f2019\",\"3\\\\u002f12\\\\u002f2019\",\"4\\\\u002f12\\\\u002f2019\",\"5\\\\u002f12\\\\u002f2019\",\"6\\\\u002f12\\\\u002f2019\",\"7\\\\u002f12\\\\u002f2019\",\"8\\\\u002f12\\\\u002f2019\",\"9\\\\u002f12\\\\u002f2019\",\"10\\\\u002f12\\\\u002f2019\",\"11\\\\u002f12\\\\u002f2019\",\"12\\\\u002f12\\\\u002f2019\",\"13\\\\u002f12\\\\u002f2019\",\"14\\\\u002f12\\\\u002f2019\",\"15\\\\u002f12\\\\u002f2019\",\"16\\\\u002f12\\\\u002f2019\",\"17\\\\u002f12\\\\u002f2019\",\"18\\\\u002f12\\\\u002f2019\",\"19\\\\u002f12\\\\u002f2019\",\"20\\\\u002f12\\\\u002f2019\",\"21\\\\u002f12\\\\u002f2019\",\"22\\\\u002f12\\\\u002f2019\",\"23\\\\u002f12\\\\u002f2019\",\"24\\\\u002f12\\\\u002f2019\",\"25\\\\u002f12\\\\u002f2019\",\"26\\\\u002f12\\\\u002f2019\",\"27\\\\u002f12\\\\u002f2019\",\"28\\\\u002f12\\\\u002f2019\",\"29\\\\u002f12\\\\u002f2019\",\"30\\\\u002f12\\\\u002f2019\",\"31\\\\u002f12\\\\u002f2019\",\"1\\\\u002f1\\\\u002f2020\",\"2\\\\u002f1\\\\u002f2020\",\"3\\\\u002f1\\\\u002f2020\",\"4\\\\u002f1\\\\u002f2020\",\"5\\\\u002f1\\\\u002f2020\",\"6\\\\u002f1\\\\u002f2020\",\"7\\\\u002f1\\\\u002f2020\",\"8\\\\u002f1\\\\u002f2020\",\"9\\\\u002f1\\\\u002f2020\",\"10\\\\u002f1\\\\u002f2020\",\"11\\\\u002f1\\\\u002f2020\",\"12\\\\u002f1\\\\u002f2020\",\"13\\\\u002f1\\\\u002f2020\",\"14\\\\u002f1\\\\u002f2020\",\"15\\\\u002f1\\\\u002f2020\",\"16\\\\u002f1\\\\u002f2020\",\"17\\\\u002f1\\\\u002f2020\",\"18\\\\u002f1\\\\u002f2020\",\"19\\\\u002f1\\\\u002f2020\",\"20\\\\u002f1\\\\u002f2020\",\"21\\\\u002f1\\\\u002f2020\",\"22\\\\u002f1\\\\u002f2020\",\"23\\\\u002f1\\\\u002f2020\",\"24\\\\u002f1\\\\u002f2020\",\"25\\\\u002f1\\\\u002f2020\",\"26\\\\u002f1\\\\u002f2020\",\"27\\\\u002f1\\\\u002f2020\",\"28\\\\u002f1\\\\u002f2020\",\"29\\\\u002f1\\\\u002f2020\",\"30\\\\u002f1\\\\u002f2020\",\"31\\\\u002f1\\\\u002f2020\",\"1\\\\u002f2\\\\u002f2020\",\"2\\\\u002f2\\\\u002f2020\",\"3\\\\u002f2\\\\u002f2020\",\"4\\\\u002f2\\\\u002f2020\",\"5\\\\u002f2\\\\u002f2020\",\"6\\\\u002f2\\\\u002f2020\",\"7\\\\u002f2\\\\u002f2020\",\"8\\\\u002f2\\\\u002f2020\",\"9\\\\u002f2\\\\u002f2020\",\"10\\\\u002f2\\\\u002f2020\",\"11\\\\u002f2\\\\u002f2020\",\"12\\\\u002f2\\\\u002f2020\",\"13\\\\u002f2\\\\u002f2020\",\"14\\\\u002f2\\\\u002f2020\",\"15\\\\u002f2\\\\u002f2020\",\"16\\\\u002f2\\\\u002f2020\",\"17\\\\u002f2\\\\u002f2020\",\"18\\\\u002f2\\\\u002f2020\",\"19\\\\u002f2\\\\u002f2020\",\"20\\\\u002f2\\\\u002f2020\",\"21\\\\u002f2\\\\u002f2020\",\"22\\\\u002f2\\\\u002f2020\",\"23\\\\u002f2\\\\u002f2020\",\"24\\\\u002f2\\\\u002f2020\",\"25\\\\u002f2\\\\u002f2020\",\"26\\\\u002f2\\\\u002f2020\",\"27\\\\u002f2\\\\u002f2020\",\"28\\\\u002f2\\\\u002f2020\",\"29\\\\u002f2\\\\u002f2020\",\"1\\\\u002f3\\\\u002f2020\",\"2\\\\u002f3\\\\u002f2020\",\"3\\\\u002f3\\\\u002f2020\",\"4\\\\u002f3\\\\u002f2020\",\"5\\\\u002f3\\\\u002f2020\",\"6\\\\u002f3\\\\u002f2020\",\"7\\\\u002f3\\\\u002f2020\",\"8\\\\u002f3\\\\u002f2020\",\"9\\\\u002f3\\\\u002f2020\",\"10\\\\u002f3\\\\u002f2020\",\"11\\\\u002f3\\\\u002f2020\",\"12\\\\u002f3\\\\u002f2020\",\"13\\\\u002f3\\\\u002f2020\",\"14\\\\u002f3\\\\u002f2020\",\"15\\\\u002f3\\\\u002f2020\",\"16\\\\u002f3\\\\u002f2020\",\"17\\\\u002f3\\\\u002f2020\",\"18\\\\u002f3\\\\u002f2020\",\"19\\\\u002f3\\\\u002f2020\",\"20\\\\u002f3\\\\u002f2020\",\"21\\\\u002f3\\\\u002f2020\",\"22\\\\u002f3\\\\u002f2020\",\"23\\\\u002f3\\\\u002f2020\",\"24\\\\u002f3\\\\u002f2020\",\"25\\\\u002f3\\\\u002f2020\",\"26\\\\u002f3\\\\u002f2020\",\"27\\\\u002f3\\\\u002f2020\",\"28\\\\u002f3\\\\u002f2020\",\"29\\\\u002f3\\\\u002f2020\",\"30\\\\u002f3\\\\u002f2020\",\"31\\\\u002f3\\\\u002f2020\",\"1\\\\u002f4\\\\u002f2020\",\"2\\\\u002f4\\\\u002f2020\",\"3\\\\u002f4\\\\u002f2020\",\"4\\\\u002f4\\\\u002f2020\",\"5\\\\u002f4\\\\u002f2020\",\"6\\\\u002f4\\\\u002f2020\",\"7\\\\u002f4\\\\u002f2020\",\"8\\\\u002f4\\\\u002f2020\",\"9\\\\u002f4\\\\u002f2020\",\"10\\\\u002f4\\\\u002f2020\",\"11\\\\u002f4\\\\u002f2020\",\"12\\\\u002f4\\\\u002f2020\",\"13\\\\u002f4\\\\u002f2020\",\"14\\\\u002f4\\\\u002f2020\",\"15\\\\u002f4\\\\u002f2020\",\"16\\\\u002f4\\\\u002f2020\",\"17\\\\u002f4\\\\u002f2020\",\"18\\\\u002f4\\\\u002f2020\",\"19\\\\u002f4\\\\u002f2020\",\"20\\\\u002f4\\\\u002f2020\",\"21\\\\u002f4\\\\u002f2020\",\"22\\\\u002f4\\\\u002f2020\",\"23\\\\u002f4\\\\u002f2020\",\"24\\\\u002f4\\\\u002f2020\",\"25\\\\u002f4\\\\u002f2020\",\"26\\\\u002f4\\\\u002f2020\",\"27\\\\u002f4\\\\u002f2020\",\"28\\\\u002f4\\\\u002f2020\",\"29\\\\u002f4\\\\u002f2020\",\"30\\\\u002f4\\\\u002f2020\",\"1\\\\u002f5\\\\u002f2020\",\"2\\\\u002f5\\\\u002f2020\",\"3\\\\u002f5\\\\u002f2020\",\"4\\\\u002f5\\\\u002f2020\",\"5\\\\u002f5\\\\u002f2020\",\"6\\\\u002f5\\\\u002f2020\",\"7\\\\u002f5\\\\u002f2020\",\"8\\\\u002f5\\\\u002f2020\",\"9\\\\u002f5\\\\u002f2020\",\"10\\\\u002f5\\\\u002f2020\",\"11\\\\u002f5\\\\u002f2020\",\"12\\\\u002f5\\\\u002f2020\",\"13\\\\u002f5\\\\u002f2020\",\"14\\\\u002f5\\\\u002f2020\",\"15\\\\u002f5\\\\u002f2020\",\"16\\\\u002f5\\\\u002f2020\",\"17\\\\u002f5\\\\u002f2020\",\"18\\\\u002f5\\\\u002f2020\",\"19\\\\u002f5\\\\u002f2020\",\"20\\\\u002f5\\\\u002f2020\",\"21\\\\u002f5\\\\u002f2020\",\"22\\\\u002f5\\\\u002f2020\",\"23\\\\u002f5\\\\u002f2020\",\"24\\\\u002f5\\\\u002f2020\",\"25\\\\u002f5\\\\u002f2020\",\"26\\\\u002f5\\\\u002f2020\",\"27\\\\u002f5\\\\u002f2020\",\"28\\\\u002f5\\\\u002f2020\",\"29\\\\u002f5\\\\u002f2020\",\"30\\\\u002f5\\\\u002f2020\",\"31\\\\u002f5\\\\u002f2020\",\"1\\\\u002f6\\\\u002f2020\",\"2\\\\u002f6\\\\u002f2020\",\"3\\\\u002f6\\\\u002f2020\",\"4\\\\u002f6\\\\u002f2020\",\"5\\\\u002f6\\\\u002f2020\",\"6\\\\u002f6\\\\u002f2020\",\"7\\\\u002f6\\\\u002f2020\",\"8\\\\u002f6\\\\u002f2020\",\"9\\\\u002f6\\\\u002f2020\",\"10\\\\u002f6\\\\u002f2020\",\"11\\\\u002f6\\\\u002f2020\",\"12\\\\u002f6\\\\u002f2020\",\"13\\\\u002f6\\\\u002f2020\",\"14\\\\u002f6\\\\u002f2020\",\"15\\\\u002f6\\\\u002f2020\",\"16\\\\u002f6\\\\u002f2020\",\"17\\\\u002f6\\\\u002f2020\",\"18\\\\u002f6\\\\u002f2020\",\"19\\\\u002f6\\\\u002f2020\",\"20\\\\u002f6\\\\u002f2020\",\"21\\\\u002f6\\\\u002f2020\",\"22\\\\u002f6\\\\u002f2020\",\"23\\\\u002f6\\\\u002f2020\",\"24\\\\u002f6\\\\u002f2020\",\"25\\\\u002f6\\\\u002f2020\",\"26\\\\u002f6\\\\u002f2020\",\"27\\\\u002f6\\\\u002f2020\",\"28\\\\u002f6\\\\u002f2020\",\"29\\\\u002f6\\\\u002f2020\",\"30\\\\u002f6\\\\u002f2020\",\"1\\\\u002f7\\\\u002f2020\",\"2\\\\u002f7\\\\u002f2020\",\"3\\\\u002f7\\\\u002f2020\",\"4\\\\u002f7\\\\u002f2020\",\"5\\\\u002f7\\\\u002f2020\",\"6\\\\u002f7\\\\u002f2020\",\"7\\\\u002f7\\\\u002f2020\",\"8\\\\u002f7\\\\u002f2020\",\"9\\\\u002f7\\\\u002f2020\",\"10\\\\u002f7\\\\u002f2020\",\"11\\\\u002f7\\\\u002f2020\",\"12\\\\u002f7\\\\u002f2020\",\"13\\\\u002f7\\\\u002f2020\",\"14\\\\u002f7\\\\u002f2020\",\"15\\\\u002f7\\\\u002f2020\",\"16\\\\u002f7\\\\u002f2020\",\"17\\\\u002f7\\\\u002f2020\",\"18\\\\u002f7\\\\u002f2020\",\"19\\\\u002f7\\\\u002f2020\",\"20\\\\u002f7\\\\u002f2020\",\"21\\\\u002f7\\\\u002f2020\",\"22\\\\u002f7\\\\u002f2020\",\"23\\\\u002f7\\\\u002f2020\",\"24\\\\u002f7\\\\u002f2020\",\"25\\\\u002f7\\\\u002f2020\",\"26\\\\u002f7\\\\u002f2020\",\"27\\\\u002f7\\\\u002f2020\",\"28\\\\u002f7\\\\u002f2020\",\"29\\\\u002f7\\\\u002f2020\",\"30\\\\u002f7\\\\u002f2020\",\"31\\\\u002f7\\\\u002f2020\",\"1\\\\u002f8\\\\u002f2020\",\"2\\\\u002f8\\\\u002f2020\",\"3\\\\u002f8\\\\u002f2020\",\"4\\\\u002f8\\\\u002f2020\",\"5\\\\u002f8\\\\u002f2020\",\"6\\\\u002f8\\\\u002f2020\",\"7\\\\u002f8\\\\u002f2020\",\"8\\\\u002f8\\\\u002f2020\",\"9\\\\u002f8\\\\u002f2020\",\"10\\\\u002f8\\\\u002f2020\",\"11\\\\u002f8\\\\u002f2020\",\"12\\\\u002f8\\\\u002f2020\",\"13\\\\u002f8\\\\u002f2020\",\"14\\\\u002f8\\\\u002f2020\",\"15\\\\u002f8\\\\u002f2020\",\"16\\\\u002f8\\\\u002f2020\",\"17\\\\u002f8\\\\u002f2020\",\"18\\\\u002f8\\\\u002f2020\",\"19\\\\u002f8\\\\u002f2020\",\"20\\\\u002f8\\\\u002f2020\",\"21\\\\u002f8\\\\u002f2020\",\"22\\\\u002f8\\\\u002f2020\",\"23\\\\u002f8\\\\u002f2020\",\"24\\\\u002f8\\\\u002f2020\",\"25\\\\u002f8\\\\u002f2020\",\"26\\\\u002f8\\\\u002f2020\",\"27\\\\u002f8\\\\u002f2020\",\"28\\\\u002f8\\\\u002f2020\",\"29\\\\u002f8\\\\u002f2020\",\"30\\\\u002f8\\\\u002f2020\",\"31\\\\u002f8\\\\u002f2020\",\"1\\\\u002f9\\\\u002f2020\",\"2\\\\u002f9\\\\u002f2020\",\"3\\\\u002f9\\\\u002f2020\",\"4\\\\u002f9\\\\u002f2020\",\"5\\\\u002f9\\\\u002f2020\",\"6\\\\u002f9\\\\u002f2020\",\"7\\\\u002f9\\\\u002f2020\",\"8\\\\u002f9\\\\u002f2020\",\"9\\\\u002f9\\\\u002f2020\",\"10\\\\u002f9\\\\u002f2020\",\"11\\\\u002f9\\\\u002f2020\",\"12\\\\u002f9\\\\u002f2020\",\"13\\\\u002f9\\\\u002f2020\",\"14\\\\u002f9\\\\u002f2020\",\"15\\\\u002f9\\\\u002f2020\",\"16\\\\u002f9\\\\u002f2020\",\"17\\\\u002f9\\\\u002f2020\",\"18\\\\u002f9\\\\u002f2020\",\"19\\\\u002f9\\\\u002f2020\",\"20\\\\u002f9\\\\u002f2020\",\"21\\\\u002f9\\\\u002f2020\",\"22\\\\u002f9\\\\u002f2020\",\"23\\\\u002f9\\\\u002f2020\",\"24\\\\u002f9\\\\u002f2020\",\"25\\\\u002f9\\\\u002f2020\",\"26\\\\u002f9\\\\u002f2020\",\"27\\\\u002f9\\\\u002f2020\",\"28\\\\u002f9\\\\u002f2020\",\"29\\\\u002f9\\\\u002f2020\",\"30\\\\u002f9\\\\u002f2020\",\"1\\\\u002f10\\\\u002f2020\",\"2\\\\u002f10\\\\u002f2020\",\"3\\\\u002f10\\\\u002f2020\",\"4\\\\u002f10\\\\u002f2020\",\"5\\\\u002f10\\\\u002f2020\",\"6\\\\u002f10\\\\u002f2020\",\"7\\\\u002f10\\\\u002f2020\",\"8\\\\u002f10\\\\u002f2020\",\"9\\\\u002f10\\\\u002f2020\",\"10\\\\u002f10\\\\u002f2020\",\"11\\\\u002f10\\\\u002f2020\",\"12\\\\u002f10\\\\u002f2020\",\"13\\\\u002f10\\\\u002f2020\",\"14\\\\u002f10\\\\u002f2020\",\"15\\\\u002f10\\\\u002f2020\",\"16\\\\u002f10\\\\u002f2020\",\"17\\\\u002f10\\\\u002f2020\",\"18\\\\u002f10\\\\u002f2020\",\"19\\\\u002f10\\\\u002f2020\",\"20\\\\u002f10\\\\u002f2020\",\"21\\\\u002f10\\\\u002f2020\",\"22\\\\u002f10\\\\u002f2020\",\"23\\\\u002f10\\\\u002f2020\",\"24\\\\u002f10\\\\u002f2020\",\"25\\\\u002f10\\\\u002f2020\",\"26\\\\u002f10\\\\u002f2020\",\"27\\\\u002f10\\\\u002f2020\",\"28\\\\u002f10\\\\u002f2020\",\"29\\\\u002f10\\\\u002f2020\",\"30\\\\u002f10\\\\u002f2020\",\"31\\\\u002f10\\\\u002f2020\",\"1\\\\u002f11\\\\u002f2020\",\"2\\\\u002f11\\\\u002f2020\",\"3\\\\u002f11\\\\u002f2020\",\"4\\\\u002f11\\\\u002f2020\",\"5\\\\u002f11\\\\u002f2020\",\"6\\\\u002f11\\\\u002f2020\",\"7\\\\u002f11\\\\u002f2020\",\"8\\\\u002f11\\\\u002f2020\",\"9\\\\u002f11\\\\u002f2020\",\"10\\\\u002f11\\\\u002f2020\",\"11\\\\u002f11\\\\u002f2020\",\"12\\\\u002f11\\\\u002f2020\",\"13\\\\u002f11\\\\u002f2020\",\"14\\\\u002f11\\\\u002f2020\",\"15\\\\u002f11\\\\u002f2020\",\"16\\\\u002f11\\\\u002f2020\",\"17\\\\u002f11\\\\u002f2020\",\"18\\\\u002f11\\\\u002f2020\",\"19\\\\u002f11\\\\u002f2020\",\"20\\\\u002f11\\\\u002f2020\",\"21\\\\u002f11\\\\u002f2020\",\"22\\\\u002f11\\\\u002f2020\",\"23\\\\u002f11\\\\u002f2020\",\"24\\\\u002f11\\\\u002f2020\",\"25\\\\u002f11\\\\u002f2020\",\"26\\\\u002f11\\\\u002f2020\",\"27\\\\u002f11\\\\u002f2020\",\"28\\\\u002f11\\\\u002f2020\",\"29\\\\u002f11\\\\u002f2020\",\"30\\\\u002f11\\\\u002f2020\",\"1\\\\u002f12\\\\u002f2020\",\"2\\\\u002f12\\\\u002f2020\",\"3\\\\u002f12\\\\u002f2020\",\"4\\\\u002f12\\\\u002f2020\",\"5\\\\u002f12\\\\u002f2020\",\"6\\\\u002f12\\\\u002f2020\",\"7\\\\u002f12\\\\u002f2020\",\"8\\\\u002f12\\\\u002f2020\",\"9\\\\u002f12\\\\u002f2020\",\"10\\\\u002f12\\\\u002f2020\",\"11\\\\u002f12\\\\u002f2020\",\"12\\\\u002f12\\\\u002f2020\",\"13\\\\u002f12\\\\u002f2020\",\"14\\\\u002f12\\\\u002f2020\",\"15\\\\u002f12\\\\u002f2020\",\"16\\\\u002f12\\\\u002f2020\",\"17\\\\u002f12\\\\u002f2020\",\"18\\\\u002f12\\\\u002f2020\",\"19\\\\u002f12\\\\u002f2020\",\"20\\\\u002f12\\\\u002f2020\",\"21\\\\u002f12\\\\u002f2020\",\"22\\\\u002f12\\\\u002f2020\",\"23\\\\u002f12\\\\u002f2020\",\"24\\\\u002f12\\\\u002f2020\",\"25\\\\u002f12\\\\u002f2020\",\"26\\\\u002f12\\\\u002f2020\",\"27\\\\u002f12\\\\u002f2020\",\"28\\\\u002f12\\\\u002f2020\",\"29\\\\u002f12\\\\u002f2020\",\"30\\\\u002f12\\\\u002f2020\",\"31\\\\u002f12\\\\u002f2020\",\"1\\\\u002f1\\\\u002f2021\",\"2\\\\u002f1\\\\u002f2021\",\"3\\\\u002f1\\\\u002f2021\",\"4\\\\u002f1\\\\u002f2021\",\"5\\\\u002f1\\\\u002f2021\",\"6\\\\u002f1\\\\u002f2021\",\"7\\\\u002f1\\\\u002f2021\",\"8\\\\u002f1\\\\u002f2021\",\"9\\\\u002f1\\\\u002f2021\",\"10\\\\u002f1\\\\u002f2021\",\"11\\\\u002f1\\\\u002f2021\",\"12\\\\u002f1\\\\u002f2021\",\"13\\\\u002f1\\\\u002f2021\",\"14\\\\u002f1\\\\u002f2021\",\"15\\\\u002f1\\\\u002f2021\",\"16\\\\u002f1\\\\u002f2021\",\"17\\\\u002f1\\\\u002f2021\",\"18\\\\u002f1\\\\u002f2021\",\"19\\\\u002f1\\\\u002f2021\",\"20\\\\u002f1\\\\u002f2021\",\"21\\\\u002f1\\\\u002f2021\",\"22\\\\u002f1\\\\u002f2021\",\"23\\\\u002f1\\\\u002f2021\",\"24\\\\u002f1\\\\u002f2021\",\"25\\\\u002f1\\\\u002f2021\",\"26\\\\u002f1\\\\u002f2021\",\"27\\\\u002f1\\\\u002f2021\",\"28\\\\u002f1\\\\u002f2021\",\"29\\\\u002f1\\\\u002f2021\",\"30\\\\u002f1\\\\u002f2021\",\"31\\\\u002f1\\\\u002f2021\",\"1\\\\u002f2\\\\u002f2021\",\"2\\\\u002f2\\\\u002f2021\",\"3\\\\u002f2\\\\u002f2021\",\"4\\\\u002f2\\\\u002f2021\",\"5\\\\u002f2\\\\u002f2021\",\"6\\\\u002f2\\\\u002f2021\",\"7\\\\u002f2\\\\u002f2021\",\"8\\\\u002f2\\\\u002f2021\",\"9\\\\u002f2\\\\u002f2021\",\"10\\\\u002f2\\\\u002f2021\",\"11\\\\u002f2\\\\u002f2021\",\"12\\\\u002f2\\\\u002f2021\",\"13\\\\u002f2\\\\u002f2021\",\"14\\\\u002f2\\\\u002f2021\",\"15\\\\u002f2\\\\u002f2021\",\"16\\\\u002f2\\\\u002f2021\",\"17\\\\u002f2\\\\u002f2021\",\"18\\\\u002f2\\\\u002f2021\",\"19\\\\u002f2\\\\u002f2021\",\"20\\\\u002f2\\\\u002f2021\",\"21\\\\u002f2\\\\u002f2021\",\"22\\\\u002f2\\\\u002f2021\",\"23\\\\u002f2\\\\u002f2021\",\"24\\\\u002f2\\\\u002f2021\",\"25\\\\u002f2\\\\u002f2021\",\"26\\\\u002f2\\\\u002f2021\",\"27\\\\u002f2\\\\u002f2021\",\"28\\\\u002f2\\\\u002f2021\",\"1\\\\u002f3\\\\u002f2021\",\"2\\\\u002f3\\\\u002f2021\",\"3\\\\u002f3\\\\u002f2021\",\"4\\\\u002f3\\\\u002f2021\",\"5\\\\u002f3\\\\u002f2021\",\"6\\\\u002f3\\\\u002f2021\",\"7\\\\u002f3\\\\u002f2021\",\"8\\\\u002f3\\\\u002f2021\",\"9\\\\u002f3\\\\u002f2021\",\"10\\\\u002f3\\\\u002f2021\",\"11\\\\u002f3\\\\u002f2021\",\"12\\\\u002f3\\\\u002f2021\",\"13\\\\u002f3\\\\u002f2021\",\"14\\\\u002f3\\\\u002f2021\",\"15\\\\u002f3\\\\u002f2021\",\"16\\\\u002f3\\\\u002f2021\",\"17\\\\u002f3\\\\u002f2021\",\"18\\\\u002f3\\\\u002f2021\",\"19\\\\u002f3\\\\u002f2021\",\"20\\\\u002f3\\\\u002f2021\",\"21\\\\u002f3\\\\u002f2021\",\"22\\\\u002f3\\\\u002f2021\",\"23\\\\u002f3\\\\u002f2021\",\"24\\\\u002f3\\\\u002f2021\",\"25\\\\u002f3\\\\u002f2021\",\"26\\\\u002f3\\\\u002f2021\",\"27\\\\u002f3\\\\u002f2021\",\"28\\\\u002f3\\\\u002f2021\",\"29\\\\u002f3\\\\u002f2021\",\"30\\\\u002f3\\\\u002f2021\",\"31\\\\u002f3\\\\u002f2021\",\"1\\\\u002f4\\\\u002f2021\",\"2\\\\u002f4\\\\u002f2021\",\"3\\\\u002f4\\\\u002f2021\",\"4\\\\u002f4\\\\u002f2021\",\"5\\\\u002f4\\\\u002f2021\",\"6\\\\u002f4\\\\u002f2021\",\"7\\\\u002f4\\\\u002f2021\",\"8\\\\u002f4\\\\u002f2021\",\"9\\\\u002f4\\\\u002f2021\",\"10\\\\u002f4\\\\u002f2021\",\"11\\\\u002f4\\\\u002f2021\",\"12\\\\u002f4\\\\u002f2021\",\"13\\\\u002f4\\\\u002f2021\",\"14\\\\u002f4\\\\u002f2021\",\"15\\\\u002f4\\\\u002f2021\",\"16\\\\u002f4\\\\u002f2021\",\"17\\\\u002f4\\\\u002f2021\",\"18\\\\u002f4\\\\u002f2021\",\"19\\\\u002f4\\\\u002f2021\",\"20\\\\u002f4\\\\u002f2021\",\"21\\\\u002f4\\\\u002f2021\",\"22\\\\u002f4\\\\u002f2021\",\"23\\\\u002f4\\\\u002f2021\",\"24\\\\u002f4\\\\u002f2021\",\"25\\\\u002f4\\\\u002f2021\",\"26\\\\u002f4\\\\u002f2021\",\"27\\\\u002f4\\\\u002f2021\",\"28\\\\u002f4\\\\u002f2021\",\"29\\\\u002f4\\\\u002f2021\",\"30\\\\u002f4\\\\u002f2021\",\"1\\\\u002f5\\\\u002f2021\",\"2\\\\u002f5\\\\u002f2021\",\"3\\\\u002f5\\\\u002f2021\",\"4\\\\u002f5\\\\u002f2021\",\"5\\\\u002f5\\\\u002f2021\",\"6\\\\u002f5\\\\u002f2021\",\"7\\\\u002f5\\\\u002f2021\",\"8\\\\u002f5\\\\u002f2021\",\"9\\\\u002f5\\\\u002f2021\",\"10\\\\u002f5\\\\u002f2021\",\"11\\\\u002f5\\\\u002f2021\",\"12\\\\u002f5\\\\u002f2021\",\"13\\\\u002f5\\\\u002f2021\",\"14\\\\u002f5\\\\u002f2021\",\"15\\\\u002f5\\\\u002f2021\",\"16\\\\u002f5\\\\u002f2021\",\"17\\\\u002f5\\\\u002f2021\",\"18\\\\u002f5\\\\u002f2021\",\"19\\\\u002f5\\\\u002f2021\",\"20\\\\u002f5\\\\u002f2021\",\"21\\\\u002f5\\\\u002f2021\",\"22\\\\u002f5\\\\u002f2021\",\"23\\\\u002f5\\\\u002f2021\",\"24\\\\u002f5\\\\u002f2021\",\"25\\\\u002f5\\\\u002f2021\",\"26\\\\u002f5\\\\u002f2021\",\"27\\\\u002f5\\\\u002f2021\",\"28\\\\u002f5\\\\u002f2021\",\"29\\\\u002f5\\\\u002f2021\",\"30\\\\u002f5\\\\u002f2021\",\"31\\\\u002f5\\\\u002f2021\",\"1\\\\u002f6\\\\u002f2021\",\"2\\\\u002f6\\\\u002f2021\",\"3\\\\u002f6\\\\u002f2021\",\"4\\\\u002f6\\\\u002f2021\",\"5\\\\u002f6\\\\u002f2021\",\"6\\\\u002f6\\\\u002f2021\",\"7\\\\u002f6\\\\u002f2021\",\"8\\\\u002f6\\\\u002f2021\",\"9\\\\u002f6\\\\u002f2021\",\"10\\\\u002f6\\\\u002f2021\",\"11\\\\u002f6\\\\u002f2021\",\"12\\\\u002f6\\\\u002f2021\",\"13\\\\u002f6\\\\u002f2021\",\"14\\\\u002f6\\\\u002f2021\",\"15\\\\u002f6\\\\u002f2021\",\"16\\\\u002f6\\\\u002f2021\",\"17\\\\u002f6\\\\u002f2021\",\"18\\\\u002f6\\\\u002f2021\",\"19\\\\u002f6\\\\u002f2021\",\"20\\\\u002f6\\\\u002f2021\",\"21\\\\u002f6\\\\u002f2021\",\"22\\\\u002f6\\\\u002f2021\",\"23\\\\u002f6\\\\u002f2021\",\"24\\\\u002f6\\\\u002f2021\",\"25\\\\u002f6\\\\u002f2021\",\"26\\\\u002f6\\\\u002f2021\",\"27\\\\u002f6\\\\u002f2021\",\"28\\\\u002f6\\\\u002f2021\",\"29\\\\u002f6\\\\u002f2021\",\"30\\\\u002f6\\\\u002f2021\",\"1\\\\u002f7\\\\u002f2021\",\"2\\\\u002f7\\\\u002f2021\",\"3\\\\u002f7\\\\u002f2021\",\"4\\\\u002f7\\\\u002f2021\",\"5\\\\u002f7\\\\u002f2021\",\"6\\\\u002f7\\\\u002f2021\",\"7\\\\u002f7\\\\u002f2021\",\"8\\\\u002f7\\\\u002f2021\",\"9\\\\u002f7\\\\u002f2021\",\"10\\\\u002f7\\\\u002f2021\",\"11\\\\u002f7\\\\u002f2021\",\"12\\\\u002f7\\\\u002f2021\",\"13\\\\u002f7\\\\u002f2021\",\"14\\\\u002f7\\\\u002f2021\",\"15\\\\u002f7\\\\u002f2021\",\"16\\\\u002f7\\\\u002f2021\",\"17\\\\u002f7\\\\u002f2021\",\"18\\\\u002f7\\\\u002f2021\",\"19\\\\u002f7\\\\u002f2021\",\"20\\\\u002f7\\\\u002f2021\",\"21\\\\u002f7\\\\u002f2021\",\"22\\\\u002f7\\\\u002f2021\",\"23\\\\u002f7\\\\u002f2021\",\"24\\\\u002f7\\\\u002f2021\",\"25\\\\u002f7\\\\u002f2021\",\"26\\\\u002f7\\\\u002f2021\",\"27\\\\u002f7\\\\u002f2021\",\"28\\\\u002f7\\\\u002f2021\",\"29\\\\u002f7\\\\u002f2021\",\"30\\\\u002f7\\\\u002f2021\",\"31\\\\u002f7\\\\u002f2021\",\"1\\\\u002f8\\\\u002f2021\",\"2\\\\u002f8\\\\u002f2021\",\"3\\\\u002f8\\\\u002f2021\",\"4\\\\u002f8\\\\u002f2021\",\"5\\\\u002f8\\\\u002f2021\",\"6\\\\u002f8\\\\u002f2021\",\"7\\\\u002f8\\\\u002f2021\",\"8\\\\u002f8\\\\u002f2021\",\"9\\\\u002f8\\\\u002f2021\",\"10\\\\u002f8\\\\u002f2021\",\"11\\\\u002f8\\\\u002f2021\",\"12\\\\u002f8\\\\u002f2021\",\"13\\\\u002f8\\\\u002f2021\",\"14\\\\u002f8\\\\u002f2021\",\"15\\\\u002f8\\\\u002f2021\",\"16\\\\u002f8\\\\u002f2021\",\"17\\\\u002f8\\\\u002f2021\",\"18\\\\u002f8\\\\u002f2021\",\"19\\\\u002f8\\\\u002f2021\",\"20\\\\u002f8\\\\u002f2021\",\"21\\\\u002f8\\\\u002f2021\",\"22\\\\u002f8\\\\u002f2021\",\"23\\\\u002f8\\\\u002f2021\",\"24\\\\u002f8\\\\u002f2021\",\"25\\\\u002f8\\\\u002f2021\",\"26\\\\u002f8\\\\u002f2021\",\"27\\\\u002f8\\\\u002f2021\",\"28\\\\u002f8\\\\u002f2021\",\"29\\\\u002f8\\\\u002f2021\",\"30\\\\u002f8\\\\u002f2021\",\"31\\\\u002f8\\\\u002f2021\",\"1\\\\u002f9\\\\u002f2021\",\"2\\\\u002f9\\\\u002f2021\",\"3\\\\u002f9\\\\u002f2021\",\"4\\\\u002f9\\\\u002f2021\",\"5\\\\u002f9\\\\u002f2021\",\"6\\\\u002f9\\\\u002f2021\",\"7\\\\u002f9\\\\u002f2021\",\"8\\\\u002f9\\\\u002f2021\",\"9\\\\u002f9\\\\u002f2021\",\"10\\\\u002f9\\\\u002f2021\",\"11\\\\u002f9\\\\u002f2021\",\"12\\\\u002f9\\\\u002f2021\",\"13\\\\u002f9\\\\u002f2021\",\"14\\\\u002f9\\\\u002f2021\",\"15\\\\u002f9\\\\u002f2021\",\"16\\\\u002f9\\\\u002f2021\",\"17\\\\u002f9\\\\u002f2021\",\"18\\\\u002f9\\\\u002f2021\",\"19\\\\u002f9\\\\u002f2021\",\"20\\\\u002f9\\\\u002f2021\",\"21\\\\u002f9\\\\u002f2021\",\"22\\\\u002f9\\\\u002f2021\",\"23\\\\u002f9\\\\u002f2021\",\"24\\\\u002f9\\\\u002f2021\",\"25\\\\u002f9\\\\u002f2021\",\"26\\\\u002f9\\\\u002f2021\",\"27\\\\u002f9\\\\u002f2021\",\"28\\\\u002f9\\\\u002f2021\",\"29\\\\u002f9\\\\u002f2021\",\"30\\\\u002f9\\\\u002f2021\",\"1\\\\u002f10\\\\u002f2021\",\"2\\\\u002f10\\\\u002f2021\",\"3\\\\u002f10\\\\u002f2021\",\"4\\\\u002f10\\\\u002f2021\",\"5\\\\u002f10\\\\u002f2021\",\"6\\\\u002f10\\\\u002f2021\",\"7\\\\u002f10\\\\u002f2021\",\"8\\\\u002f10\\\\u002f2021\",\"9\\\\u002f10\\\\u002f2021\",\"10\\\\u002f10\\\\u002f2021\",\"11\\\\u002f10\\\\u002f2021\",\"12\\\\u002f10\\\\u002f2021\",\"13\\\\u002f10\\\\u002f2021\",\"14\\\\u002f10\\\\u002f2021\",\"15\\\\u002f10\\\\u002f2021\",\"16\\\\u002f10\\\\u002f2021\",\"17\\\\u002f10\\\\u002f2021\",\"18\\\\u002f10\\\\u002f2021\",\"19\\\\u002f10\\\\u002f2021\",\"20\\\\u002f10\\\\u002f2021\",\"21\\\\u002f10\\\\u002f2021\",\"22\\\\u002f10\\\\u002f2021\",\"23\\\\u002f10\\\\u002f2021\",\"24\\\\u002f10\\\\u002f2021\",\"25\\\\u002f10\\\\u002f2021\",\"26\\\\u002f10\\\\u002f2021\",\"27\\\\u002f10\\\\u002f2021\",\"28\\\\u002f10\\\\u002f2021\",\"29\\\\u002f10\\\\u002f2021\",\"30\\\\u002f10\\\\u002f2021\",\"31\\\\u002f10\\\\u002f2021\",\"1\\\\u002f11\\\\u002f2021\",\"2\\\\u002f11\\\\u002f2021\",\"3\\\\u002f11\\\\u002f2021\",\"4\\\\u002f11\\\\u002f2021\",\"5\\\\u002f11\\\\u002f2021\",\"6\\\\u002f11\\\\u002f2021\",\"7\\\\u002f11\\\\u002f2021\",\"8\\\\u002f11\\\\u002f2021\",\"9\\\\u002f11\\\\u002f2021\",\"10\\\\u002f11\\\\u002f2021\",\"11\\\\u002f11\\\\u002f2021\",\"12\\\\u002f11\\\\u002f2021\",\"13\\\\u002f11\\\\u002f2021\",\"14\\\\u002f11\\\\u002f2021\",\"15\\\\u002f11\\\\u002f2021\",\"16\\\\u002f11\\\\u002f2021\",\"17\\\\u002f11\\\\u002f2021\",\"18\\\\u002f11\\\\u002f2021\",\"19\\\\u002f11\\\\u002f2021\",\"20\\\\u002f11\\\\u002f2021\",\"21\\\\u002f11\\\\u002f2021\",\"22\\\\u002f11\\\\u002f2021\",\"23\\\\u002f11\\\\u002f2021\",\"24\\\\u002f11\\\\u002f2021\",\"25\\\\u002f11\\\\u002f2021\",\"26\\\\u002f11\\\\u002f2021\",\"27\\\\u002f11\\\\u002f2021\",\"28\\\\u002f11\\\\u002f2021\",\"29\\\\u002f11\\\\u002f2021\",\"30\\\\u002f11\\\\u002f2021\",\"1\\\\u002f12\\\\u002f2021\",\"2\\\\u002f12\\\\u002f2021\",\"3\\\\u002f12\\\\u002f2021\",\"4\\\\u002f12\\\\u002f2021\",\"5\\\\u002f12\\\\u002f2021\",\"6\\\\u002f12\\\\u002f2021\",\"7\\\\u002f12\\\\u002f2021\",\"8\\\\u002f12\\\\u002f2021\",\"9\\\\u002f12\\\\u002f2021\",\"10\\\\u002f12\\\\u002f2021\",\"11\\\\u002f12\\\\u002f2021\",\"12\\\\u002f12\\\\u002f2021\",\"13\\\\u002f12\\\\u002f2021\",\"14\\\\u002f12\\\\u002f2021\",\"15\\\\u002f12\\\\u002f2021\",\"16\\\\u002f12\\\\u002f2021\",\"17\\\\u002f12\\\\u002f2021\",\"18\\\\u002f12\\\\u002f2021\",\"19\\\\u002f12\\\\u002f2021\",\"20\\\\u002f12\\\\u002f2021\",\"21\\\\u002f12\\\\u002f2021\",\"22\\\\u002f12\\\\u002f2021\",\"23\\\\u002f12\\\\u002f2021\",\"24\\\\u002f12\\\\u002f2021\",\"25\\\\u002f12\\\\u002f2021\",\"26\\\\u002f12\\\\u002f2021\",\"27\\\\u002f12\\\\u002f2021\",\"28\\\\u002f12\\\\u002f2021\",\"29\\\\u002f12\\\\u002f2021\",\"30\\\\u002f12\\\\u002f2021\",\"31\\\\u002f12\\\\u002f2021\",\"1\\\\u002f1\\\\u002f2022\",\"2\\\\u002f1\\\\u002f2022\",\"3\\\\u002f1\\\\u002f2022\",\"4\\\\u002f1\\\\u002f2022\",\"5\\\\u002f1\\\\u002f2022\",\"6\\\\u002f1\\\\u002f2022\",\"7\\\\u002f1\\\\u002f2022\",\"8\\\\u002f1\\\\u002f2022\",\"9\\\\u002f1\\\\u002f2022\",\"10\\\\u002f1\\\\u002f2022\",\"11\\\\u002f1\\\\u002f2022\",\"12\\\\u002f1\\\\u002f2022\",\"13\\\\u002f1\\\\u002f2022\",\"14\\\\u002f1\\\\u002f2022\",\"15\\\\u002f1\\\\u002f2022\",\"16\\\\u002f1\\\\u002f2022\",\"17\\\\u002f1\\\\u002f2022\",\"18\\\\u002f1\\\\u002f2022\",\"19\\\\u002f1\\\\u002f2022\",\"20\\\\u002f1\\\\u002f2022\",\"21\\\\u002f1\\\\u002f2022\",\"22\\\\u002f1\\\\u002f2022\",\"23\\\\u002f1\\\\u002f2022\",\"24\\\\u002f1\\\\u002f2022\",\"25\\\\u002f1\\\\u002f2022\",\"26\\\\u002f1\\\\u002f2022\",\"27\\\\u002f1\\\\u002f2022\",\"28\\\\u002f1\\\\u002f2022\",\"29\\\\u002f1\\\\u002f2022\",\"30\\\\u002f1\\\\u002f2022\",\"31\\\\u002f1\\\\u002f2022\",\"1\\\\u002f2\\\\u002f2022\",\"2\\\\u002f2\\\\u002f2022\",\"3\\\\u002f2\\\\u002f2022\",\"4\\\\u002f2\\\\u002f2022\",\"5\\\\u002f2\\\\u002f2022\",\"6\\\\u002f2\\\\u002f2022\",\"7\\\\u002f2\\\\u002f2022\",\"8\\\\u002f2\\\\u002f2022\",\"9\\\\u002f2\\\\u002f2022\",\"10\\\\u002f2\\\\u002f2022\",\"11\\\\u002f2\\\\u002f2022\",\"12\\\\u002f2\\\\u002f2022\",\"13\\\\u002f2\\\\u002f2022\",\"14\\\\u002f2\\\\u002f2022\",\"15\\\\u002f2\\\\u002f2022\",\"16\\\\u002f2\\\\u002f2022\",\"17\\\\u002f2\\\\u002f2022\",\"18\\\\u002f2\\\\u002f2022\",\"19\\\\u002f2\\\\u002f2022\",\"20\\\\u002f2\\\\u002f2022\",\"21\\\\u002f2\\\\u002f2022\",\"22\\\\u002f2\\\\u002f2022\",\"23\\\\u002f2\\\\u002f2022\",\"24\\\\u002f2\\\\u002f2022\",\"25\\\\u002f2\\\\u002f2022\",\"26\\\\u002f2\\\\u002f2022\",\"27\\\\u002f2\\\\u002f2022\",\"28\\\\u002f2\\\\u002f2022\",\"1\\\\u002f3\\\\u002f2022\",\"2\\\\u002f3\\\\u002f2022\",\"3\\\\u002f3\\\\u002f2022\",\"4\\\\u002f3\\\\u002f2022\",\"5\\\\u002f3\\\\u002f2022\",\"6\\\\u002f3\\\\u002f2022\",\"7\\\\u002f3\\\\u002f2022\",\"8\\\\u002f3\\\\u002f2022\",\"9\\\\u002f3\\\\u002f2022\",\"10\\\\u002f3\\\\u002f2022\",\"11\\\\u002f3\\\\u002f2022\",\"12\\\\u002f3\\\\u002f2022\",\"13\\\\u002f3\\\\u002f2022\",\"14\\\\u002f3\\\\u002f2022\",\"15\\\\u002f3\\\\u002f2022\",\"16\\\\u002f3\\\\u002f2022\",\"17\\\\u002f3\\\\u002f2022\",\"18\\\\u002f3\\\\u002f2022\",\"19\\\\u002f3\\\\u002f2022\",\"20\\\\u002f3\\\\u002f2022\",\"21\\\\u002f3\\\\u002f2022\",\"22\\\\u002f3\\\\u002f2022\",\"23\\\\u002f3\\\\u002f2022\",\"24\\\\u002f3\\\\u002f2022\",\"25\\\\u002f3\\\\u002f2022\",\"26\\\\u002f3\\\\u002f2022\",\"27\\\\u002f3\\\\u002f2022\",\"28\\\\u002f3\\\\u002f2022\",\"29\\\\u002f3\\\\u002f2022\",\"30\\\\u002f3\\\\u002f2022\",\"31\\\\u002f3\\\\u002f2022\",\"1\\\\u002f4\\\\u002f2022\",\"2\\\\u002f4\\\\u002f2022\",\"3\\\\u002f4\\\\u002f2022\",\"4\\\\u002f4\\\\u002f2022\",\"5\\\\u002f4\\\\u002f2022\",\"6\\\\u002f4\\\\u002f2022\",\"7\\\\u002f4\\\\u002f2022\",\"8\\\\u002f4\\\\u002f2022\",\"9\\\\u002f4\\\\u002f2022\",\"10\\\\u002f4\\\\u002f2022\",\"11\\\\u002f4\\\\u002f2022\",\"12\\\\u002f4\\\\u002f2022\",\"13\\\\u002f4\\\\u002f2022\",\"14\\\\u002f4\\\\u002f2022\",\"15\\\\u002f4\\\\u002f2022\",\"16\\\\u002f4\\\\u002f2022\",\"17\\\\u002f4\\\\u002f2022\",\"18\\\\u002f4\\\\u002f2022\",\"19\\\\u002f4\\\\u002f2022\",\"20\\\\u002f4\\\\u002f2022\",\"21\\\\u002f4\\\\u002f2022\",\"22\\\\u002f4\\\\u002f2022\",\"23\\\\u002f4\\\\u002f2022\",\"24\\\\u002f4\\\\u002f2022\",\"25\\\\u002f4\\\\u002f2022\",\"26\\\\u002f4\\\\u002f2022\",\"27\\\\u002f4\\\\u002f2022\",\"28\\\\u002f4\\\\u002f2022\",\"29\\\\u002f4\\\\u002f2022\",\"30\\\\u002f4\\\\u002f2022\",\"1\\\\u002f5\\\\u002f2022\",\"2\\\\u002f5\\\\u002f2022\",\"3\\\\u002f5\\\\u002f2022\",\"4\\\\u002f5\\\\u002f2022\",\"5\\\\u002f5\\\\u002f2022\",\"6\\\\u002f5\\\\u002f2022\",\"7\\\\u002f5\\\\u002f2022\",\"8\\\\u002f5\\\\u002f2022\",\"9\\\\u002f5\\\\u002f2022\",\"10\\\\u002f5\\\\u002f2022\",\"11\\\\u002f5\\\\u002f2022\",\"12\\\\u002f5\\\\u002f2022\",\"13\\\\u002f5\\\\u002f2022\",\"14\\\\u002f5\\\\u002f2022\",\"15\\\\u002f5\\\\u002f2022\",\"16\\\\u002f5\\\\u002f2022\",\"17\\\\u002f5\\\\u002f2022\",\"18\\\\u002f5\\\\u002f2022\",\"19\\\\u002f5\\\\u002f2022\",\"20\\\\u002f5\\\\u002f2022\",\"21\\\\u002f5\\\\u002f2022\",\"22\\\\u002f5\\\\u002f2022\",\"23\\\\u002f5\\\\u002f2022\",\"24\\\\u002f5\\\\u002f2022\",\"25\\\\u002f5\\\\u002f2022\",\"26\\\\u002f5\\\\u002f2022\",\"27\\\\u002f5\\\\u002f2022\",\"28\\\\u002f5\\\\u002f2022\",\"29\\\\u002f5\\\\u002f2022\",\"30\\\\u002f5\\\\u002f2022\",\"31\\\\u002f5\\\\u002f2022\",\"1\\\\u002f6\\\\u002f2022\",\"2\\\\u002f6\\\\u002f2022\",\"3\\\\u002f6\\\\u002f2022\",\"4\\\\u002f6\\\\u002f2022\",\"5\\\\u002f6\\\\u002f2022\",\"6\\\\u002f6\\\\u002f2022\",\"7\\\\u002f6\\\\u002f2022\",\"8\\\\u002f6\\\\u002f2022\",\"9\\\\u002f6\\\\u002f2022\",\"10\\\\u002f6\\\\u002f2022\",\"11\\\\u002f6\\\\u002f2022\",\"12\\\\u002f6\\\\u002f2022\",\"13\\\\u002f6\\\\u002f2022\",\"14\\\\u002f6\\\\u002f2022\",\"15\\\\u002f6\\\\u002f2022\",\"16\\\\u002f6\\\\u002f2022\",\"17\\\\u002f6\\\\u002f2022\",\"18\\\\u002f6\\\\u002f2022\",\"19\\\\u002f6\\\\u002f2022\",\"20\\\\u002f6\\\\u002f2022\",\"21\\\\u002f6\\\\u002f2022\",\"22\\\\u002f6\\\\u002f2022\",\"23\\\\u002f6\\\\u002f2022\",\"24\\\\u002f6\\\\u002f2022\",\"25\\\\u002f6\\\\u002f2022\",\"26\\\\u002f6\\\\u002f2022\",\"27\\\\u002f6\\\\u002f2022\",\"28\\\\u002f6\\\\u002f2022\",\"29\\\\u002f6\\\\u002f2022\",\"30\\\\u002f6\\\\u002f2022\",\"1\\\\u002f7\\\\u002f2022\",\"2\\\\u002f7\\\\u002f2022\",\"3\\\\u002f7\\\\u002f2022\",\"4\\\\u002f7\\\\u002f2022\",\"5\\\\u002f7\\\\u002f2022\",\"6\\\\u002f7\\\\u002f2022\",\"7\\\\u002f7\\\\u002f2022\",\"8\\\\u002f7\\\\u002f2022\",\"9\\\\u002f7\\\\u002f2022\",\"10\\\\u002f7\\\\u002f2022\",\"11\\\\u002f7\\\\u002f2022\",\"12\\\\u002f7\\\\u002f2022\",\"13\\\\u002f7\\\\u002f2022\",\"14\\\\u002f7\\\\u002f2022\",\"15\\\\u002f7\\\\u002f2022\",\"16\\\\u002f7\\\\u002f2022\",\"17\\\\u002f7\\\\u002f2022\",\"18\\\\u002f7\\\\u002f2022\",\"19\\\\u002f7\\\\u002f2022\",\"20\\\\u002f7\\\\u002f2022\",\"21\\\\u002f7\\\\u002f2022\",\"22\\\\u002f7\\\\u002f2022\",\"23\\\\u002f7\\\\u002f2022\",\"24\\\\u002f7\\\\u002f2022\",\"25\\\\u002f7\\\\u002f2022\",\"26\\\\u002f7\\\\u002f2022\",\"27\\\\u002f7\\\\u002f2022\",\"28\\\\u002f7\\\\u002f2022\",\"29\\\\u002f7\\\\u002f2022\",\"30\\\\u002f7\\\\u002f2022\",\"31\\\\u002f7\\\\u002f2022\",\"1\\\\u002f8\\\\u002f2022\",\"2\\\\u002f8\\\\u002f2022\",\"3\\\\u002f8\\\\u002f2022\",\"4\\\\u002f8\\\\u002f2022\",\"5\\\\u002f8\\\\u002f2022\",\"6\\\\u002f8\\\\u002f2022\",\"7\\\\u002f8\\\\u002f2022\",\"8\\\\u002f8\\\\u002f2022\",\"9\\\\u002f8\\\\u002f2022\",\"10\\\\u002f8\\\\u002f2022\",\"11\\\\u002f8\\\\u002f2022\",\"12\\\\u002f8\\\\u002f2022\",\"13\\\\u002f8\\\\u002f2022\",\"14\\\\u002f8\\\\u002f2022\",\"15\\\\u002f8\\\\u002f2022\",\"16\\\\u002f8\\\\u002f2022\",\"17\\\\u002f8\\\\u002f2022\",\"18\\\\u002f8\\\\u002f2022\",\"19\\\\u002f8\\\\u002f2022\",\"20\\\\u002f8\\\\u002f2022\",\"21\\\\u002f8\\\\u002f2022\",\"22\\\\u002f8\\\\u002f2022\",\"23\\\\u002f8\\\\u002f2022\",\"24\\\\u002f8\\\\u002f2022\",\"25\\\\u002f8\\\\u002f2022\",\"26\\\\u002f8\\\\u002f2022\",\"27\\\\u002f8\\\\u002f2022\",\"28\\\\u002f8\\\\u002f2022\",\"29\\\\u002f8\\\\u002f2022\",\"30\\\\u002f8\\\\u002f2022\",\"31\\\\u002f8\\\\u002f2022\",\"1\\\\u002f9\\\\u002f2022\",\"2\\\\u002f9\\\\u002f2022\",\"3\\\\u002f9\\\\u002f2022\",\"4\\\\u002f9\\\\u002f2022\",\"5\\\\u002f9\\\\u002f2022\",\"6\\\\u002f9\\\\u002f2022\",\"7\\\\u002f9\\\\u002f2022\",\"8\\\\u002f9\\\\u002f2022\",\"9\\\\u002f9\\\\u002f2022\",\"10\\\\u002f9\\\\u002f2022\",\"11\\\\u002f9\\\\u002f2022\",\"12\\\\u002f9\\\\u002f2022\",\"13\\\\u002f9\\\\u002f2022\",\"14\\\\u002f9\\\\u002f2022\",\"15\\\\u002f9\\\\u002f2022\",\"16\\\\u002f9\\\\u002f2022\",\"17\\\\u002f9\\\\u002f2022\",\"18\\\\u002f9\\\\u002f2022\",\"19\\\\u002f9\\\\u002f2022\",\"20\\\\u002f9\\\\u002f2022\",\"21\\\\u002f9\\\\u002f2022\",\"22\\\\u002f9\\\\u002f2022\",\"23\\\\u002f9\\\\u002f2022\",\"24\\\\u002f9\\\\u002f2022\",\"25\\\\u002f9\\\\u002f2022\",\"26\\\\u002f9\\\\u002f2022\",\"27\\\\u002f9\\\\u002f2022\",\"28\\\\u002f9\\\\u002f2022\",\"29\\\\u002f9\\\\u002f2022\",\"30\\\\u002f9\\\\u002f2022\",\"1\\\\u002f10\\\\u002f2022\",\"2\\\\u002f10\\\\u002f2022\",\"3\\\\u002f10\\\\u002f2022\",\"4\\\\u002f10\\\\u002f2022\",\"5\\\\u002f10\\\\u002f2022\",\"6\\\\u002f10\\\\u002f2022\",\"7\\\\u002f10\\\\u002f2022\",\"8\\\\u002f10\\\\u002f2022\",\"9\\\\u002f10\\\\u002f2022\",\"10\\\\u002f10\\\\u002f2022\",\"11\\\\u002f10\\\\u002f2022\",\"12\\\\u002f10\\\\u002f2022\",\"13\\\\u002f10\\\\u002f2022\",\"14\\\\u002f10\\\\u002f2022\",\"15\\\\u002f10\\\\u002f2022\",\"16\\\\u002f10\\\\u002f2022\",\"17\\\\u002f10\\\\u002f2022\",\"18\\\\u002f10\\\\u002f2022\",\"19\\\\u002f10\\\\u002f2022\",\"20\\\\u002f10\\\\u002f2022\",\"21\\\\u002f10\\\\u002f2022\",\"22\\\\u002f10\\\\u002f2022\",\"23\\\\u002f10\\\\u002f2022\",\"24\\\\u002f10\\\\u002f2022\",\"25\\\\u002f10\\\\u002f2022\",\"26\\\\u002f10\\\\u002f2022\",\"27\\\\u002f10\\\\u002f2022\",\"28\\\\u002f10\\\\u002f2022\",\"29\\\\u002f10\\\\u002f2022\",\"30\\\\u002f10\\\\u002f2022\",\"31\\\\u002f10\\\\u002f2022\",\"1\\\\u002f11\\\\u002f2022\",\"2\\\\u002f11\\\\u002f2022\",\"3\\\\u002f11\\\\u002f2022\",\"4\\\\u002f11\\\\u002f2022\",\"5\\\\u002f11\\\\u002f2022\",\"6\\\\u002f11\\\\u002f2022\",\"7\\\\u002f11\\\\u002f2022\",\"8\\\\u002f11\\\\u002f2022\",\"9\\\\u002f11\\\\u002f2022\",\"10\\\\u002f11\\\\u002f2022\",\"11\\\\u002f11\\\\u002f2022\",\"12\\\\u002f11\\\\u002f2022\",\"13\\\\u002f11\\\\u002f2022\",\"14\\\\u002f11\\\\u002f2022\",\"15\\\\u002f11\\\\u002f2022\",\"16\\\\u002f11\\\\u002f2022\",\"17\\\\u002f11\\\\u002f2022\",\"18\\\\u002f11\\\\u002f2022\",\"19\\\\u002f11\\\\u002f2022\",\"20\\\\u002f11\\\\u002f2022\",\"21\\\\u002f11\\\\u002f2022\",\"22\\\\u002f11\\\\u002f2022\",\"23\\\\u002f11\\\\u002f2022\",\"24\\\\u002f11\\\\u002f2022\",\"25\\\\u002f11\\\\u002f2022\",\"26\\\\u002f11\\\\u002f2022\",\"27\\\\u002f11\\\\u002f2022\",\"28\\\\u002f11\\\\u002f2022\",\"29\\\\u002f11\\\\u002f2022\",\"30\\\\u002f11\\\\u002f2022\",\"1\\\\u002f12\\\\u002f2022\",\"2\\\\u002f12\\\\u002f2022\",\"3\\\\u002f12\\\\u002f2022\",\"4\\\\u002f12\\\\u002f2022\",\"5\\\\u002f12\\\\u002f2022\",\"6\\\\u002f12\\\\u002f2022\",\"7\\\\u002f12\\\\u002f2022\",\"8\\\\u002f12\\\\u002f2022\",\"9\\\\u002f12\\\\u002f2022\",\"10\\\\u002f12\\\\u002f2022\",\"11\\\\u002f12\\\\u002f2022\",\"12\\\\u002f12\\\\u002f2022\",\"13\\\\u002f12\\\\u002f2022\",\"14\\\\u002f12\\\\u002f2022\",\"15\\\\u002f12\\\\u002f2022\",\"16\\\\u002f12\\\\u002f2022\",\"17\\\\u002f12\\\\u002f2022\",\"18\\\\u002f12\\\\u002f2022\",\"19\\\\u002f12\\\\u002f2022\",\"20\\\\u002f12\\\\u002f2022\",\"21\\\\u002f12\\\\u002f2022\",\"22\\\\u002f12\\\\u002f2022\",\"23\\\\u002f12\\\\u002f2022\",\"24\\\\u002f12\\\\u002f2022\",\"25\\\\u002f12\\\\u002f2022\",\"26\\\\u002f12\\\\u002f2022\",\"27\\\\u002f12\\\\u002f2022\",\"28\\\\u002f12\\\\u002f2022\",\"29\\\\u002f12\\\\u002f2022\",\"30\\\\u002f12\\\\u002f2022\",\"31\\\\u002f12\\\\u002f2022\",\"1\\\\u002f1\\\\u002f2023\",\"2\\\\u002f1\\\\u002f2023\",\"3\\\\u002f1\\\\u002f2023\",\"4\\\\u002f1\\\\u002f2023\",\"5\\\\u002f1\\\\u002f2023\",\"6\\\\u002f1\\\\u002f2023\",\"7\\\\u002f1\\\\u002f2023\",\"8\\\\u002f1\\\\u002f2023\",\"9\\\\u002f1\\\\u002f2023\",\"10\\\\u002f1\\\\u002f2023\",\"11\\\\u002f1\\\\u002f2023\",\"12\\\\u002f1\\\\u002f2023\",\"13\\\\u002f1\\\\u002f2023\",\"14\\\\u002f1\\\\u002f2023\",\"15\\\\u002f1\\\\u002f2023\",\"16\\\\u002f1\\\\u002f2023\",\"17\\\\u002f1\\\\u002f2023\",\"18\\\\u002f1\\\\u002f2023\",\"19\\\\u002f1\\\\u002f2023\",\"20\\\\u002f1\\\\u002f2023\",\"21\\\\u002f1\\\\u002f2023\",\"22\\\\u002f1\\\\u002f2023\",\"23\\\\u002f1\\\\u002f2023\",\"24\\\\u002f1\\\\u002f2023\",\"25\\\\u002f1\\\\u002f2023\",\"26\\\\u002f1\\\\u002f2023\",\"27\\\\u002f1\\\\u002f2023\",\"28\\\\u002f1\\\\u002f2023\",\"29\\\\u002f1\\\\u002f2023\",\"30\\\\u002f1\\\\u002f2023\",\"31\\\\u002f1\\\\u002f2023\",\"1\\\\u002f2\\\\u002f2023\",\"2\\\\u002f2\\\\u002f2023\",\"3\\\\u002f2\\\\u002f2023\",\"4\\\\u002f2\\\\u002f2023\",\"5\\\\u002f2\\\\u002f2023\",\"6\\\\u002f2\\\\u002f2023\",\"7\\\\u002f2\\\\u002f2023\",\"8\\\\u002f2\\\\u002f2023\",\"9\\\\u002f2\\\\u002f2023\",\"10\\\\u002f2\\\\u002f2023\",\"11\\\\u002f2\\\\u002f2023\",\"12\\\\u002f2\\\\u002f2023\",\"13\\\\u002f2\\\\u002f2023\",\"14\\\\u002f2\\\\u002f2023\",\"15\\\\u002f2\\\\u002f2023\",\"16\\\\u002f2\\\\u002f2023\",\"17\\\\u002f2\\\\u002f2023\",\"18\\\\u002f2\\\\u002f2023\",\"19\\\\u002f2\\\\u002f2023\",\"20\\\\u002f2\\\\u002f2023\",\"21\\\\u002f2\\\\u002f2023\",\"22\\\\u002f2\\\\u002f2023\",\"23\\\\u002f2\\\\u002f2023\",\"24\\\\u002f2\\\\u002f2023\",\"25\\\\u002f2\\\\u002f2023\",\"26\\\\u002f2\\\\u002f2023\",\"27\\\\u002f2\\\\u002f2023\",\"28\\\\u002f2\\\\u002f2023\",\"1\\\\u002f3\\\\u002f2023\",\"2\\\\u002f3\\\\u002f2023\",\"3\\\\u002f3\\\\u002f2023\",\"4\\\\u002f3\\\\u002f2023\",\"5\\\\u002f3\\\\u002f2023\",\"6\\\\u002f3\\\\u002f2023\",\"7\\\\u002f3\\\\u002f2023\",\"8\\\\u002f3\\\\u002f2023\",\"9\\\\u002f3\\\\u002f2023\",\"10\\\\u002f3\\\\u002f2023\",\"11\\\\u002f3\\\\u002f2023\",\"12\\\\u002f3\\\\u002f2023\",\"13\\\\u002f3\\\\u002f2023\",\"14\\\\u002f3\\\\u002f2023\",\"15\\\\u002f3\\\\u002f2023\",\"16\\\\u002f3\\\\u002f2023\",\"17\\\\u002f3\\\\u002f2023\",\"18\\\\u002f3\\\\u002f2023\",\"19\\\\u002f3\\\\u002f2023\",\"20\\\\u002f3\\\\u002f2023\",\"21\\\\u002f3\\\\u002f2023\",\"22\\\\u002f3\\\\u002f2023\",\"23\\\\u002f3\\\\u002f2023\",\"24\\\\u002f3\\\\u002f2023\",\"25\\\\u002f3\\\\u002f2023\",\"26\\\\u002f3\\\\u002f2023\",\"27\\\\u002f3\\\\u002f2023\",\"28\\\\u002f3\\\\u002f2023\",\"29\\\\u002f3\\\\u002f2023\",\"30\\\\u002f3\\\\u002f2023\",\"31\\\\u002f3\\\\u002f2023\",\"1\\\\u002f4\\\\u002f2023\",\"2\\\\u002f4\\\\u002f2023\",\"3\\\\u002f4\\\\u002f2023\",\"4\\\\u002f4\\\\u002f2023\",\"5\\\\u002f4\\\\u002f2023\",\"6\\\\u002f4\\\\u002f2023\",\"7\\\\u002f4\\\\u002f2023\",\"8\\\\u002f4\\\\u002f2023\",\"9\\\\u002f4\\\\u002f2023\",\"10\\\\u002f4\\\\u002f2023\",\"11\\\\u002f4\\\\u002f2023\",\"12\\\\u002f4\\\\u002f2023\",\"13\\\\u002f4\\\\u002f2023\",\"14\\\\u002f4\\\\u002f2023\",\"15\\\\u002f4\\\\u002f2023\",\"16\\\\u002f4\\\\u002f2023\",\"17\\\\u002f4\\\\u002f2023\",\"18\\\\u002f4\\\\u002f2023\",\"19\\\\u002f4\\\\u002f2023\",\"20\\\\u002f4\\\\u002f2023\",\"21\\\\u002f4\\\\u002f2023\",\"22\\\\u002f4\\\\u002f2023\",\"23\\\\u002f4\\\\u002f2023\",\"24\\\\u002f4\\\\u002f2023\",\"25\\\\u002f4\\\\u002f2023\",\"26\\\\u002f4\\\\u002f2023\",\"27\\\\u002f4\\\\u002f2023\",\"28\\\\u002f4\\\\u002f2023\",\"29\\\\u002f4\\\\u002f2023\",\"30\\\\u002f4\\\\u002f2023\",\"1\\\\u002f5\\\\u002f2023\",\"2\\\\u002f5\\\\u002f2023\",\"3\\\\u002f5\\\\u002f2023\",\"4\\\\u002f5\\\\u002f2023\",\"5\\\\u002f5\\\\u002f2023\",\"6\\\\u002f5\\\\u002f2023\",\"7\\\\u002f5\\\\u002f2023\",\"8\\\\u002f5\\\\u002f2023\",\"9\\\\u002f5\\\\u002f2023\",\"10\\\\u002f5\\\\u002f2023\",\"11\\\\u002f5\\\\u002f2023\",\"12\\\\u002f5\\\\u002f2023\",\"13\\\\u002f5\\\\u002f2023\",\"14\\\\u002f5\\\\u002f2023\",\"15\\\\u002f5\\\\u002f2023\",\"16\\\\u002f5\\\\u002f2023\",\"17\\\\u002f5\\\\u002f2023\",\"18\\\\u002f5\\\\u002f2023\",\"19\\\\u002f5\\\\u002f2023\",\"20\\\\u002f5\\\\u002f2023\",\"21\\\\u002f5\\\\u002f2023\",\"22\\\\u002f5\\\\u002f2023\",\"23\\\\u002f5\\\\u002f2023\",\"24\\\\u002f5\\\\u002f2023\",\"25\\\\u002f5\\\\u002f2023\",\"26\\\\u002f5\\\\u002f2023\",\"27\\\\u002f5\\\\u002f2023\",\"28\\\\u002f5\\\\u002f2023\",\"29\\\\u002f5\\\\u002f2023\",\"30\\\\u002f5\\\\u002f2023\",\"31\\\\u002f5\\\\u002f2023\",\"1\\\\u002f6\\\\u002f2023\",\"2\\\\u002f6\\\\u002f2023\",\"3\\\\u002f6\\\\u002f2023\",\"4\\\\u002f6\\\\u002f2023\",\"5\\\\u002f6\\\\u002f2023\",\"6\\\\u002f6\\\\u002f2023\",\"7\\\\u002f6\\\\u002f2023\",\"8\\\\u002f6\\\\u002f2023\",\"9\\\\u002f6\\\\u002f2023\",\"10\\\\u002f6\\\\u002f2023\",\"11\\\\u002f6\\\\u002f2023\",\"12\\\\u002f6\\\\u002f2023\",\"13\\\\u002f6\\\\u002f2023\",\"14\\\\u002f6\\\\u002f2023\",\"15\\\\u002f6\\\\u002f2023\",\"16\\\\u002f6\\\\u002f2023\",\"17\\\\u002f6\\\\u002f2023\",\"18\\\\u002f6\\\\u002f2023\",\"19\\\\u002f6\\\\u002f2023\",\"20\\\\u002f6\\\\u002f2023\",\"21\\\\u002f6\\\\u002f2023\",\"22\\\\u002f6\\\\u002f2023\",\"23\\\\u002f6\\\\u002f2023\",\"24\\\\u002f6\\\\u002f2023\",\"25\\\\u002f6\\\\u002f2023\",\"26\\\\u002f6\\\\u002f2023\",\"27\\\\u002f6\\\\u002f2023\",\"28\\\\u002f6\\\\u002f2023\",\"29\\\\u002f6\\\\u002f2023\",\"30\\\\u002f6\\\\u002f2023\",\"1\\\\u002f7\\\\u002f2023\",\"2\\\\u002f7\\\\u002f2023\",\"3\\\\u002f7\\\\u002f2023\",\"4\\\\u002f7\\\\u002f2023\",\"5\\\\u002f7\\\\u002f2023\",\"6\\\\u002f7\\\\u002f2023\",\"7\\\\u002f7\\\\u002f2023\",\"8\\\\u002f7\\\\u002f2023\",\"9\\\\u002f7\\\\u002f2023\",\"10\\\\u002f7\\\\u002f2023\",\"11\\\\u002f7\\\\u002f2023\",\"12\\\\u002f7\\\\u002f2023\",\"13\\\\u002f7\\\\u002f2023\",\"14\\\\u002f7\\\\u002f2023\",\"15\\\\u002f7\\\\u002f2023\",\"16\\\\u002f7\\\\u002f2023\",\"17\\\\u002f7\\\\u002f2023\",\"18\\\\u002f7\\\\u002f2023\",\"19\\\\u002f7\\\\u002f2023\",\"20\\\\u002f7\\\\u002f2023\",\"21\\\\u002f7\\\\u002f2023\",\"22\\\\u002f7\\\\u002f2023\",\"23\\\\u002f7\\\\u002f2023\",\"24\\\\u002f7\\\\u002f2023\",\"25\\\\u002f7\\\\u002f2023\",\"26\\\\u002f7\\\\u002f2023\",\"27\\\\u002f7\\\\u002f2023\",\"28\\\\u002f7\\\\u002f2023\",\"29\\\\u002f7\\\\u002f2023\",\"30\\\\u002f7\\\\u002f2023\",\"31\\\\u002f7\\\\u002f2023\",\"1\\\\u002f8\\\\u002f2023\",\"2\\\\u002f8\\\\u002f2023\",\"3\\\\u002f8\\\\u002f2023\",\"4\\\\u002f8\\\\u002f2023\",\"5\\\\u002f8\\\\u002f2023\",\"6\\\\u002f8\\\\u002f2023\",\"7\\\\u002f8\\\\u002f2023\",\"8\\\\u002f8\\\\u002f2023\",\"9\\\\u002f8\\\\u002f2023\",\"10\\\\u002f8\\\\u002f2023\",\"11\\\\u002f8\\\\u002f2023\",\"12\\\\u002f8\\\\u002f2023\",\"13\\\\u002f8\\\\u002f2023\",\"14\\\\u002f8\\\\u002f2023\",\"15\\\\u002f8\\\\u002f2023\",\"16\\\\u002f8\\\\u002f2023\",\"17\\\\u002f8\\\\u002f2023\",\"18\\\\u002f8\\\\u002f2023\",\"19\\\\u002f8\\\\u002f2023\",\"20\\\\u002f8\\\\u002f2023\",\"21\\\\u002f8\\\\u002f2023\",\"22\\\\u002f8\\\\u002f2023\",\"23\\\\u002f8\\\\u002f2023\",\"24\\\\u002f8\\\\u002f2023\",\"25\\\\u002f8\\\\u002f2023\",\"26\\\\u002f8\\\\u002f2023\",\"27\\\\u002f8\\\\u002f2023\",\"28\\\\u002f8\\\\u002f2023\",\"29\\\\u002f8\\\\u002f2023\",\"30\\\\u002f8\\\\u002f2023\",\"31\\\\u002f8\\\\u002f2023\",\"1\\\\u002f9\\\\u002f2023\",\"2\\\\u002f9\\\\u002f2023\",\"3\\\\u002f9\\\\u002f2023\",\"4\\\\u002f9\\\\u002f2023\",\"5\\\\u002f9\\\\u002f2023\",\"6\\\\u002f9\\\\u002f2023\",\"7\\\\u002f9\\\\u002f2023\",\"8\\\\u002f9\\\\u002f2023\",\"9\\\\u002f9\\\\u002f2023\",\"10\\\\u002f9\\\\u002f2023\",\"11\\\\u002f9\\\\u002f2023\",\"12\\\\u002f9\\\\u002f2023\",\"13\\\\u002f9\\\\u002f2023\",\"14\\\\u002f9\\\\u002f2023\",\"15\\\\u002f9\\\\u002f2023\",\"16\\\\u002f9\\\\u002f2023\",\"17\\\\u002f9\\\\u002f2023\",\"18\\\\u002f9\\\\u002f2023\",\"19\\\\u002f9\\\\u002f2023\",\"20\\\\u002f9\\\\u002f2023\",\"21\\\\u002f9\\\\u002f2023\",\"22\\\\u002f9\\\\u002f2023\",\"23\\\\u002f9\\\\u002f2023\",\"24\\\\u002f9\\\\u002f2023\",\"25\\\\u002f9\\\\u002f2023\",\"26\\\\u002f9\\\\u002f2023\",\"27\\\\u002f9\\\\u002f2023\",\"28\\\\u002f9\\\\u002f2023\",\"29\\\\u002f9\\\\u002f2023\",\"30\\\\u002f9\\\\u002f2023\",\"1\\\\u002f10\\\\u002f2023\",\"2\\\\u002f10\\\\u002f2023\",\"3\\\\u002f10\\\\u002f2023\",\"4\\\\u002f10\\\\u002f2023\",\"5\\\\u002f10\\\\u002f2023\",\"6\\\\u002f10\\\\u002f2023\",\"7\\\\u002f10\\\\u002f2023\",\"8\\\\u002f10\\\\u002f2023\",\"9\\\\u002f10\\\\u002f2023\",\"10\\\\u002f10\\\\u002f2023\",\"11\\\\u002f10\\\\u002f2023\",\"12\\\\u002f10\\\\u002f2023\",\"13\\\\u002f10\\\\u002f2023\",\"14\\\\u002f10\\\\u002f2023\",\"15\\\\u002f10\\\\u002f2023\",\"16\\\\u002f10\\\\u002f2023\",\"17\\\\u002f10\\\\u002f2023\",\"18\\\\u002f10\\\\u002f2023\",\"19\\\\u002f10\\\\u002f2023\",\"20\\\\u002f10\\\\u002f2023\",\"21\\\\u002f10\\\\u002f2023\",\"22\\\\u002f10\\\\u002f2023\",\"23\\\\u002f10\\\\u002f2023\",\"24\\\\u002f10\\\\u002f2023\",\"25\\\\u002f10\\\\u002f2023\",\"26\\\\u002f10\\\\u002f2023\",\"27\\\\u002f10\\\\u002f2023\",\"28\\\\u002f10\\\\u002f2023\",\"29\\\\u002f10\\\\u002f2023\",\"30\\\\u002f10\\\\u002f2023\",\"31\\\\u002f10\\\\u002f2023\",\"1\\\\u002f11\\\\u002f2023\",\"2\\\\u002f11\\\\u002f2023\",\"3\\\\u002f11\\\\u002f2023\",\"4\\\\u002f11\\\\u002f2023\",\"5\\\\u002f11\\\\u002f2023\",\"6\\\\u002f11\\\\u002f2023\",\"7\\\\u002f11\\\\u002f2023\",\"8\\\\u002f11\\\\u002f2023\",\"9\\\\u002f11\\\\u002f2023\",\"10\\\\u002f11\\\\u002f2023\",\"11\\\\u002f11\\\\u002f2023\",\"12\\\\u002f11\\\\u002f2023\",\"13\\\\u002f11\\\\u002f2023\",\"14\\\\u002f11\\\\u002f2023\",\"15\\\\u002f11\\\\u002f2023\",\"16\\\\u002f11\\\\u002f2023\",\"17\\\\u002f11\\\\u002f2023\",\"18\\\\u002f11\\\\u002f2023\",\"19\\\\u002f11\\\\u002f2023\",\"20\\\\u002f11\\\\u002f2023\",\"21\\\\u002f11\\\\u002f2023\",\"22\\\\u002f11\\\\u002f2023\",\"23\\\\u002f11\\\\u002f2023\",\"24\\\\u002f11\\\\u002f2023\",\"25\\\\u002f11\\\\u002f2023\",\"26\\\\u002f11\\\\u002f2023\",\"27\\\\u002f11\\\\u002f2023\",\"28\\\\u002f11\\\\u002f2023\",\"29\\\\u002f11\\\\u002f2023\",\"30\\\\u002f11\\\\u002f2023\",\"1\\\\u002f12\\\\u002f2023\",\"2\\\\u002f12\\\\u002f2023\",\"3\\\\u002f12\\\\u002f2023\",\"4\\\\u002f12\\\\u002f2023\",\"5\\\\u002f12\\\\u002f2023\",\"6\\\\u002f12\\\\u002f2023\",\"7\\\\u002f12\\\\u002f2023\",\"8\\\\u002f12\\\\u002f2023\",\"9\\\\u002f12\\\\u002f2023\",\"10\\\\u002f12\\\\u002f2023\",\"11\\\\u002f12\\\\u002f2023\",\"12\\\\u002f12\\\\u002f2023\",\"13\\\\u002f12\\\\u002f2023\",\"14\\\\u002f12\\\\u002f2023\",\"15\\\\u002f12\\\\u002f2023\",\"16\\\\u002f12\\\\u002f2023\",\"17\\\\u002f12\\\\u002f2023\",\"18\\\\u002f12\\\\u002f2023\",\"19\\\\u002f12\\\\u002f2023\",\"20\\\\u002f12\\\\u002f2023\",\"21\\\\u002f12\\\\u002f2023\",\"22\\\\u002f12\\\\u002f2023\",\"23\\\\u002f12\\\\u002f2023\",\"24\\\\u002f12\\\\u002f2023\",\"25\\\\u002f12\\\\u002f2023\",\"26\\\\u002f12\\\\u002f2023\",\"27\\\\u002f12\\\\u002f2023\",\"28\\\\u002f12\\\\u002f2023\",\"29\\\\u002f12\\\\u002f2023\",\"30\\\\u002f12\\\\u002f2023\",\"31\\\\u002f12\\\\u002f2023\"],\"xaxis\":\"x\",\"y\":[84.04,97.82,63.7,90.04,124.11,154.06,59.84,93.57,61.31,117.81,64.26,111.36,175.6,61.19,107.09,100.12,37.53,43.84,99.57,67.82,31.93,93.32,45.24,43.39,165.61,23.34,36.17,25.2,63.34,50.42,65.12,108.37,85.65,126.35,59.86,172.17,194.61,58.16,106.81,130.72,181.8,47.12,84.86,63.97,70.64,115.23,118.65,191.14,148.75,178.67,24.43,88.34,89.78,150.85,156.4,172.74,98.8,156.43,118.3,54.86,159.12,139.62,196.93,89.09,40.84,159.3,179.12,107.28,93.77,83.08,75.72,177.77,52.32,144.53,29.7,93.61,161.1,192.62,44.79,149.62,163.34,116.97,48.05,96.39,50.88,146.31,131.53,174.29,36.79,140.0,39.02,92.12,93.93,92.11,110.54,193.88,72.02,62.1,168.23,173.03,103.25,30.21,175.17,131.28,135.57,154.76,126.56,91.36,197.27,28.88,184.53,195.92,26.3,157.31,27.62,132.84,93.32,162.64,90.16,25.73,155.1,82.79,131.36,94.08,60.81,145.42,170.65,178.23,99.39,102.91,172.46,127.24,80.89,116.11,119.47,83.17,177.26,59.16,197.78,107.43,97.45,114.55,121.29,178.1,39.85,60.37,41.6,177.6,115.33,80.6,164.14,28.94,173.09,101.3,173.64,131.59,198.66,89.05,61.16,62.78,64.12,162.9,186.53,25.41,46.69,189.06,77.36,78.68,199.65,107.84,53.14,72.89,26.27,144.02,189.5,110.88,76.82,196.32,181.14,41.54,67.54,191.07,123.4,197.17,148.41,118.45,196.14,99.24,92.3,100.82,182.91,163.17,176.86,149.2,118.38,66.3,194.04,150.41,108.2,108.56,52.64,120.03,134.02,192.75,162.47,105.27,43.03,30.75,106.46,198.18,108.59,63.86,60.41,95.66,61.16,77.37,91.74,174.92,153.2,89.1,181.71,111.75,128.93,50.44,132.27,68.62,36.17,97.08,26.93,39.92,82.72,183.26,43.89,191.87,165.03,138.34,108.73,178.12,80.03,55.73,100.06,171.44,36.32,50.04,25.23,48.82,141.68,121.78,40.5,180.74,62.85,73.5,112.19,124.18,53.62,82.04,157.89,22.29,87.38,126.62,159.52,24.76,139.0,182.39,42.62,151.26,108.15,176.82,188.01,52.32,79.34,150.49,129.19,75.99,173.27,96.77,186.05,141.56,100.72,154.67,84.79,173.66,185.72,83.62,129.86,180.08,143.06,86.64,116.91,147.48,123.91,47.06,187.91,31.98,62.5,89.61,74.91,53.0,108.19,24.83,91.63,122.89,52.08,86.76,82.55,79.57,171.28,134.63,49.34,86.54,37.98,116.98,72.35,102.3,169.44,149.91,141.2,102.83,194.08,46.09,177.99,144.07,28.49,121.26,89.55,28.62,126.3,90.12,157.31,53.02,110.0,127.35,152.89,44.95,168.56,193.21,168.62,36.11,98.0,83.45,191.21,84.87,175.57,81.23,62.88,129.48,193.26,185.02,99.83,163.2,111.92,183.08,59.68,132.04,95.84,33.24,144.04,137.91,122.57,57.14,180.34,177.95,141.52,135.52,111.8,63.15,25.92,135.39,50.78,144.14,73.37,49.85,101.02,98.15,93.67,193.09,62.09,168.32,187.41,100.61,71.79,159.95,48.09,133.38,66.76,165.46,199.33,27.25,130.95,47.55,139.56,41.63,155.28,112.56,61.91,118.92,195.97,22.61,191.25,175.98,148.15,187.04,71.42,55.5,23.66,58.6,144.51,126.85,162.21,177.61,48.38,197.86,90.98,43.93,193.87,148.55,87.85,58.51,37.63,67.99,109.49,43.76,110.32,176.32,182.31,21.57,20.11,95.46,104.85,142.47,139.22,189.87,113.52,171.31,150.11,122.36,114.75,144.23,173.29,191.05,164.11,186.47,191.3,58.78,149.13,79.7,32.62,62.44,88.9,60.24,57.87,139.16,169.28,177.75,66.37,195.44,141.57,20.79,186.19,56.14,140.34,70.55,44.04,160.47,115.09,138.67,198.42,73.27,162.02,135.79,34.38,57.21,165.21,189.72,71.48,187.32,76.93,161.2,47.35,133.52,71.1,141.65,47.57,128.11,66.01,40.13,188.7,178.55,34.09,73.27,59.44,189.15,32.6,148.15,146.51,65.7,128.84,34.59,22.56,171.15,171.39,66.66,60.56,135.49,28.15,79.75,48.05,142.16,160.19,179.52,83.09,184.29,196.8,102.55,195.06,131.1,38.73,105.96,64.44,52.69,176.41,159.43,165.36,119.65,177.15,76.91,51.69,143.33,53.61,171.73,45.73,86.99,168.54,181.85,178.5,96.34,98.38,133.39,42.71,151.1,174.66,134.69,67.94,138.21,199.5,98.29,136.23,188.79,79.73,32.84,66.29,22.57,198.37,108.8,76.93,71.49,140.44,92.38,178.73,39.35,59.78,59.55,172.66,48.17,173.93,187.42,170.28,74.85,193.95,42.4,129.19,94.84,144.9,72.51,150.11,138.28,52.92,166.87,97.3,143.63,91.27,56.18,199.69,158.56,67.64,84.97,127.42,138.38,97.82,115.97,62.89,181.98,164.41,107.62,72.79,57.18,170.37,40.39,32.23,30.0,179.92,193.79,118.75,118.93,112.4,108.99,32.39,73.29,109.03,135.84,143.9,195.61,179.39,97.35,128.27,82.22,89.11,31.63,133.28,70.27,141.37,21.64,190.4,146.45,27.27,104.58,69.12,84.15,48.12,30.19,46.72,95.39,49.26,140.23,175.22,171.06,148.64,44.05,126.78,131.49,86.72,118.36,175.31,187.86,133.88,69.56,192.41,88.42,167.14,178.34,29.46,58.85,99.93,183.06,190.85,47.66,29.76,195.52,62.89,110.49,100.88,170.6,140.62,176.03,142.3,140.97,142.37,21.62,65.4,81.0,151.49,132.44,167.12,69.0,124.48,178.04,88.2,195.53,38.44,96.48,198.0,61.05,169.98,26.26,113.41,130.69,124.03,116.63,179.63,124.34,92.58,23.53,136.53,50.78,94.14,199.33,120.15,23.05,68.07,50.15,74.14,40.95,177.24,154.92,45.84,58.84,187.92,190.98,68.55,47.82,22.1,67.61,146.25,30.94,88.23,47.74,61.27,158.78,51.43,159.94,37.61,89.01,163.09,59.64,147.92,179.71,130.0,167.21,98.21,120.66,115.44,43.38,99.44,46.24,168.76,175.26,167.67,69.42,108.41,192.35,25.22,22.54,145.65,164.94,94.49,38.98,163.09,34.9,126.07,107.06,147.5,61.2,198.47,38.51,39.36,176.02,197.63,164.15,26.69,77.23,104.51,106.32,41.09,43.9,47.79,34.43,146.55,71.29,95.75,194.2,72.69,99.68,114.16,121.37,192.63,62.99,46.71,177.28,176.24,21.69,59.98,194.13,130.83,63.77,111.75,33.33,121.09,147.15,168.89,68.99,123.1,199.45,81.49,95.47,178.43,143.03,164.32,179.09,185.84,75.78,158.09,93.19,166.28,146.57,191.18,58.9,62.98,28.85,103.4,21.26,130.2,115.65,51.63,150.23,141.97,130.14,60.12,50.79,160.06,63.93,86.2,120.82,84.1,89.52,86.63,163.71,44.66,71.53,82.09,134.86,193.18,119.88,156.11,153.76,27.61,186.16,99.89,45.25,101.19,98.45,137.86,36.77,88.7,191.18,144.58,107.4,89.63,58.6,51.31,91.17,27.53,35.41,159.31,83.02,111.82,101.68,161.86,57.21,32.56,24.38,118.72,118.45,132.79,76.63,149.92,51.5,176.68,126.25,48.72,99.99,44.56,36.6,74.55,98.65,144.87,125.86,37.59,71.36,109.52,43.39,185.19,98.88,109.42,82.76,100.24,47.97,190.61,164.6,161.97,45.69,48.75,149.6,134.97,108.62,157.51,65.76,115.97,135.55,199.46,42.39,105.41,126.96,52.19,164.88,106.08,117.05,112.25,122.73,67.75,88.47,160.33,175.85,124.33,97.53,175.46,87.28,81.28,129.56,75.65,41.65,154.27,38.99,104.29,132.88,81.67,154.72,49.02,186.83,98.25,54.0,80.95,161.77,191.89,199.7,93.99,166.9,127.13,197.03,119.38,37.17,36.11,199.16,39.84,153.36,166.57,47.2,178.67,178.68,170.5,92.14,143.06,67.73,187.29,148.99,132.44,130.05,46.21,49.46,46.66,20.78,188.34,169.24,141.61,170.7,61.98,198.47,159.35,34.66,89.74,197.42,197.06,136.38,68.79,73.57,69.35,32.15,85.98,66.32,109.09,89.41,182.94,120.58,117.99,43.0,170.39,63.58,188.0,186.09,108.73,159.02,111.5,120.5,110.61,108.27,133.42,60.74,77.18,192.71,35.3,87.34,193.89,165.94,184.76,43.02,145.24,112.8,116.8,85.81,129.39,110.71,36.37,33.75,114.17,141.27,34.76,153.13,136.76,20.25,133.06,173.98,54.91,101.05,159.78,46.65,21.12,61.04,175.69,36.47,45.45,128.76,87.59,86.11,36.54,59.31,189.86,155.71,38.46,139.47,144.99,31.09,36.89,153.5,194.91,51.61,187.41,141.58,188.95,73.93,77.19,37.23,98.4,51.87,75.94,73.94,188.13,54.79,194.07,172.69,69.9,62.31,91.8,43.48,114.26,67.19,167.63,128.8,90.4,120.77,67.72,181.87,58.69,36.76,60.31,119.6,66.03,46.88,191.17,124.42,147.33,35.25,73.01,33.29,102.93,60.52,199.8,197.71,26.16,176.04,134.96,182.32,178.38,156.64,80.94,114.94,155.3,32.78,28.89,88.15,141.08,151.19,35.59,189.82,45.22,68.82,151.65,112.27,40.56,127.29,77.09,189.99,32.42,129.72,37.12,131.92,117.97,189.8,38.85,66.59,82.21,78.45,122.63,38.32,146.35,93.18,42.18,138.33,65.67,146.92,36.39,100.87,23.55,175.77,175.81,95.71,193.5,24.2,48.36,24.31,121.6,37.1,188.55,181.87,88.67,37.11,32.26,59.84,35.19,24.76,116.24,170.42,109.04,118.78,90.53,170.83,49.04,146.74,127.98,73.46,197.15,145.53,135.54,116.18,174.27,30.42,182.45,31.96,83.96,76.03,160.68,171.4,74.56,182.91,193.62,147.48,139.6,165.99,136.99,199.13,80.94,105.69,173.53,154.19,88.52,199.57,63.58,177.8,54.93,159.64,106.7,164.73,83.2,158.41,197.52,173.64,172.36,198.85,187.07,167.82,36.99,189.77,32.12,50.0,92.51,44.68,160.6,114.39,110.23,147.06,79.64,55.34,26.04,116.53,69.08,111.88,105.98,48.64,168.4,71.92,162.64,112.35,111.05,168.59,38.74,42.7,135.84,167.24,105.62,117.55,56.74,137.01,28.91,54.89,108.23,178.15,132.9,116.51,95.94,121.22,150.36,157.17,167.16,161.85,43.67,166.77,158.42,189.6,48.0,141.27,76.76,113.11,96.09,159.5,143.12,20.89,59.99,191.86,144.72,52.41,182.6,77.21,72.95,78.79,160.01,121.74,25.17,173.51,186.44,83.87,123.4,71.22,119.41,105.94,139.35,66.15,103.93,179.54,66.24,194.61,99.71,139.34,60.36,110.07,93.03,50.56,60.28,140.99,114.54,112.74,83.21,132.09,144.69,65.35,169.35,28.31,99.39,37.86,161.64,25.1,74.73,74.79,128.69,69.89,128.43,148.72,120.94,190.59,143.87,148.5,63.68,122.99,167.96,65.6,78.89,77.95,113.07,164.06,82.1,55.23,123.38,158.73,120.77,35.33,112.53,145.93,75.02,38.69,151.24,45.92,110.77,165.72,133.66,107.78,130.1,189.66,160.67,127.73,44.18,95.89,26.39,131.54,177.81,135.99,79.72,88.99,162.33,135.79,163.61,54.56,57.12,107.84,111.41,105.66,80.55,30.49,144.06,103.55,149.1,191.93,183.85,137.54,188.07,160.08,53.57,139.26,75.87,89.21,64.8,116.61,116.6,125.22,146.67,20.39,40.45,64.9,138.01,104.32,178.06,40.68,108.92,64.74,24.77,136.42,125.08,32.11,167.49,24.33,192.32,83.01,165.74,103.08,84.57,65.06,30.76,25.1,176.76,83.37,85.42,155.22,80.23,158.32,175.87,93.98,157.18,156.45,143.79,199.91,24.22,36.56,95.23,151.95,97.61,179.37,199.72,118.17,108.32,34.58,24.37,105.4,23.96,166.26,150.49,177.36,128.1,56.22,189.05,56.63,23.38,190.16,136.66,66.97,115.98,136.23,79.11,106.43,27.75,95.05,52.81,48.01,29.59,142.11,133.89,64.94,44.58,168.56,82.03,176.96,120.18,111.9,128.64,34.79,177.31,55.73,111.63,176.84,107.59,132.14,171.87,64.51,45.91,106.32,55.13,73.25,97.39,70.68,174.32,51.61,167.15,136.19,175.24,169.37,48.7,193.68,27.6,44.86,158.99,134.24,143.05,107.0,39.25,200.0,89.16,163.37,106.2,143.39,152.5,169.26,92.39,61.62,61.91,184.5,158.84,48.91,35.63,28.27,164.04,119.56,113.06,104.72,97.93,142.49,27.18,121.64,25.42,41.55,45.8,130.17,114.05,69.32,98.64,199.12,140.91,104.07,99.67,181.82,129.79,34.89,89.01,98.59,84.8,126.18,45.73,187.73,63.97,171.21,105.83,166.0,179.61,196.75,163.11,101.59,59.26,80.53,137.87,153.92,62.38,139.78,187.16,147.8,90.75,44.12,120.54,119.52,190.47,84.98,192.58,35.61,177.27,136.3,183.1,153.24,102.18,184.04,55.4,95.62,27.49,45.08,25.63,102.86,72.43,45.76,165.48,52.43,62.79,131.14,26.84,31.99,177.2,197.03,157.11,139.18,48.63,138.1,188.26,167.42,42.54,113.69,44.03,127.57,20.02,137.89,181.15,120.69,106.53,39.86,30.35,57.98,143.03,124.0,136.32,49.23,181.06,175.15,179.86,171.43,98.3,92.49,89.54,125.84,28.84,176.61,101.92,81.3,66.82,105.21,166.68,183.35,101.93,83.69,28.85,110.13,171.39,193.3,151.18,26.88,99.29,186.39,103.76,159.11,108.2,60.12,142.39,69.68,60.83,198.49,159.28,148.72,47.02,21.92,140.3,20.14,169.41,26.33,106.91,95.85,32.17,47.18,174.42,109.54,166.11,26.88,36.37,132.28,182.32,59.46,72.85,62.06,98.68,175.63,113.17,115.88,74.21,116.61,108.09,185.86,38.0,21.77,35.8,151.91,139.68,111.92,159.5,150.95,44.91,141.57,195.21,60.3,59.97,66.08,172.83,164.46,63.82,180.09,49.09,48.75,94.06,56.29,142.52,185.24,62.27,192.74,119.82,64.55,176.21,109.17,30.89,145.91,75.32,63.54,67.41,122.12,92.53,113.47,130.57,50.62,79.66,197.26,22.51,108.41,97.17,38.66,192.42,78.61,24.72,111.6,183.29,117.98,85.25,110.56,31.55,96.8,98.78,125.99,120.83,40.44,66.41,104.62,199.18,102.53,194.33,116.54,142.3,146.03,149.77,187.38,133.9,191.18,146.93,67.34,33.49,24.1,125.88,48.94,132.73,168.2,56.59,29.56,172.4,160.69,20.04,194.58,121.21,109.92,187.78,84.58,68.48,148.16,61.43,100.58,131.0,44.7,145.65,57.75,198.04,44.61,81.24,188.8,171.14,160.47,57.23,165.66,131.33,81.84,143.31,121.75,54.34,197.61,136.49,123.12,113.71,196.17,155.35,111.3,21.75,185.91,80.4,31.87,120.87,75.9,104.43,141.67,61.33,116.15,198.52,65.64,42.46,34.8,88.24,163.42,111.09,165.36,143.11,30.69,129.91,134.11,124.18,109.41,125.8,35.08,90.46,143.88,182.3,178.13,186.6,60.23,154.68,49.12,153.59,46.52,157.25,119.3,111.44,52.36,127.03,113.54,58.71,111.13,164.28,152.85,165.96,101.13,28.11,164.03,153.23,84.57,106.17,187.9],\"yaxis\":\"y\",\"type\":\"bar\"}],\"layout\":{\"template\":{\"data\":{\"histogram2dcontour\":[{\"type\":\"histogram2dcontour\",\"colorbar\":{\"outlinewidth\":0,\"ticks\":\"\"},\"colorscale\":[[0.0,\"#0d0887\"],[0.1111111111111111,\"#46039f\"],[0.2222222222222222,\"#7201a8\"],[0.3333333333333333,\"#9c179e\"],[0.4444444444444444,\"#bd3786\"],[0.5555555555555556,\"#d8576b\"],[0.6666666666666666,\"#ed7953\"],[0.7777777777777778,\"#fb9f3a\"],[0.8888888888888888,\"#fdca26\"],[1.0,\"#f0f921\"]]}],\"choropleth\":[{\"type\":\"choropleth\",\"colorbar\":{\"outlinewidth\":0,\"ticks\":\"\"}}],\"histogram2d\":[{\"type\":\"histogram2d\",\"colorbar\":{\"outlinewidth\":0,\"ticks\":\"\"},\"colorscale\":[[0.0,\"#0d0887\"],[0.1111111111111111,\"#46039f\"],[0.2222222222222222,\"#7201a8\"],[0.3333333333333333,\"#9c179e\"],[0.4444444444444444,\"#bd3786\"],[0.5555555555555556,\"#d8576b\"],[0.6666666666666666,\"#ed7953\"],[0.7777777777777778,\"#fb9f3a\"],[0.8888888888888888,\"#fdca26\"],[1.0,\"#f0f921\"]]}],\"heatmap\":[{\"type\":\"heatmap\",\"colorbar\":{\"outlinewidth\":0,\"ticks\":\"\"},\"colorscale\":[[0.0,\"#0d0887\"],[0.1111111111111111,\"#46039f\"],[0.2222222222222222,\"#7201a8\"],[0.3333333333333333,\"#9c179e\"],[0.4444444444444444,\"#bd3786\"],[0.5555555555555556,\"#d8576b\"],[0.6666666666666666,\"#ed7953\"],[0.7777777777777778,\"#fb9f3a\"],[0.8888888888888888,\"#fdca26\"],[1.0,\"#f0f921\"]]}],\"heatmapgl\":[{\"type\":\"heatmapgl\",\"colorbar\":{\"outlinewidth\":0,\"ticks\":\"\"},\"colorscale\":[[0.0,\"#0d0887\"],[0.1111111111111111,\"#46039f\"],[0.2222222222222222,\"#7201a8\"],[0.3333333333333333,\"#9c179e\"],[0.4444444444444444,\"#bd3786\"],[0.5555555555555556,\"#d8576b\"],[0.6666666666666666,\"#ed7953\"],[0.7777777777777778,\"#fb9f3a\"],[0.8888888888888888,\"#fdca26\"],[1.0,\"#f0f921\"]]}],\"contourcarpet\":[{\"type\":\"contourcarpet\",\"colorbar\":{\"outlinewidth\":0,\"ticks\":\"\"}}],\"contour\":[{\"type\":\"contour\",\"colorbar\":{\"outlinewidth\":0,\"ticks\":\"\"},\"colorscale\":[[0.0,\"#0d0887\"],[0.1111111111111111,\"#46039f\"],[0.2222222222222222,\"#7201a8\"],[0.3333333333333333,\"#9c179e\"],[0.4444444444444444,\"#bd3786\"],[0.5555555555555556,\"#d8576b\"],[0.6666666666666666,\"#ed7953\"],[0.7777777777777778,\"#fb9f3a\"],[0.8888888888888888,\"#fdca26\"],[1.0,\"#f0f921\"]]}],\"surface\":[{\"type\":\"surface\",\"colorbar\":{\"outlinewidth\":0,\"ticks\":\"\"},\"colorscale\":[[0.0,\"#0d0887\"],[0.1111111111111111,\"#46039f\"],[0.2222222222222222,\"#7201a8\"],[0.3333333333333333,\"#9c179e\"],[0.4444444444444444,\"#bd3786\"],[0.5555555555555556,\"#d8576b\"],[0.6666666666666666,\"#ed7953\"],[0.7777777777777778,\"#fb9f3a\"],[0.8888888888888888,\"#fdca26\"],[1.0,\"#f0f921\"]]}],\"mesh3d\":[{\"type\":\"mesh3d\",\"colorbar\":{\"outlinewidth\":0,\"ticks\":\"\"}}],\"scatter\":[{\"fillpattern\":{\"fillmode\":\"overlay\",\"size\":10,\"solidity\":0.2},\"type\":\"scatter\"}],\"parcoords\":[{\"type\":\"parcoords\",\"line\":{\"colorbar\":{\"outlinewidth\":0,\"ticks\":\"\"}}}],\"scatterpolargl\":[{\"type\":\"scatterpolargl\",\"marker\":{\"colorbar\":{\"outlinewidth\":0,\"ticks\":\"\"}}}],\"bar\":[{\"error_x\":{\"color\":\"#2a3f5f\"},\"error_y\":{\"color\":\"#2a3f5f\"},\"marker\":{\"line\":{\"color\":\"#E5ECF6\",\"width\":0.5},\"pattern\":{\"fillmode\":\"overlay\",\"size\":10,\"solidity\":0.2}},\"type\":\"bar\"}],\"scattergeo\":[{\"type\":\"scattergeo\",\"marker\":{\"colorbar\":{\"outlinewidth\":0,\"ticks\":\"\"}}}],\"scatterpolar\":[{\"type\":\"scatterpolar\",\"marker\":{\"colorbar\":{\"outlinewidth\":0,\"ticks\":\"\"}}}],\"histogram\":[{\"marker\":{\"pattern\":{\"fillmode\":\"overlay\",\"size\":10,\"solidity\":0.2}},\"type\":\"histogram\"}],\"scattergl\":[{\"type\":\"scattergl\",\"marker\":{\"colorbar\":{\"outlinewidth\":0,\"ticks\":\"\"}}}],\"scatter3d\":[{\"type\":\"scatter3d\",\"line\":{\"colorbar\":{\"outlinewidth\":0,\"ticks\":\"\"}},\"marker\":{\"colorbar\":{\"outlinewidth\":0,\"ticks\":\"\"}}}],\"scattermapbox\":[{\"type\":\"scattermapbox\",\"marker\":{\"colorbar\":{\"outlinewidth\":0,\"ticks\":\"\"}}}],\"scatterternary\":[{\"type\":\"scatterternary\",\"marker\":{\"colorbar\":{\"outlinewidth\":0,\"ticks\":\"\"}}}],\"scattercarpet\":[{\"type\":\"scattercarpet\",\"marker\":{\"colorbar\":{\"outlinewidth\":0,\"ticks\":\"\"}}}],\"carpet\":[{\"aaxis\":{\"endlinecolor\":\"#2a3f5f\",\"gridcolor\":\"white\",\"linecolor\":\"white\",\"minorgridcolor\":\"white\",\"startlinecolor\":\"#2a3f5f\"},\"baxis\":{\"endlinecolor\":\"#2a3f5f\",\"gridcolor\":\"white\",\"linecolor\":\"white\",\"minorgridcolor\":\"white\",\"startlinecolor\":\"#2a3f5f\"},\"type\":\"carpet\"}],\"table\":[{\"cells\":{\"fill\":{\"color\":\"#EBF0F8\"},\"line\":{\"color\":\"white\"}},\"header\":{\"fill\":{\"color\":\"#C8D4E3\"},\"line\":{\"color\":\"white\"}},\"type\":\"table\"}],\"barpolar\":[{\"marker\":{\"line\":{\"color\":\"#E5ECF6\",\"width\":0.5},\"pattern\":{\"fillmode\":\"overlay\",\"size\":10,\"solidity\":0.2}},\"type\":\"barpolar\"}],\"pie\":[{\"automargin\":true,\"type\":\"pie\"}]},\"layout\":{\"autotypenumbers\":\"strict\",\"colorway\":[\"#636efa\",\"#EF553B\",\"#00cc96\",\"#ab63fa\",\"#FFA15A\",\"#19d3f3\",\"#FF6692\",\"#B6E880\",\"#FF97FF\",\"#FECB52\"],\"font\":{\"color\":\"#2a3f5f\"},\"hovermode\":\"closest\",\"hoverlabel\":{\"align\":\"left\"},\"paper_bgcolor\":\"white\",\"plot_bgcolor\":\"#E5ECF6\",\"polar\":{\"bgcolor\":\"#E5ECF6\",\"angularaxis\":{\"gridcolor\":\"white\",\"linecolor\":\"white\",\"ticks\":\"\"},\"radialaxis\":{\"gridcolor\":\"white\",\"linecolor\":\"white\",\"ticks\":\"\"}},\"ternary\":{\"bgcolor\":\"#E5ECF6\",\"aaxis\":{\"gridcolor\":\"white\",\"linecolor\":\"white\",\"ticks\":\"\"},\"baxis\":{\"gridcolor\":\"white\",\"linecolor\":\"white\",\"ticks\":\"\"},\"caxis\":{\"gridcolor\":\"white\",\"linecolor\":\"white\",\"ticks\":\"\"}},\"coloraxis\":{\"colorbar\":{\"outlinewidth\":0,\"ticks\":\"\"}},\"colorscale\":{\"sequential\":[[0.0,\"#0d0887\"],[0.1111111111111111,\"#46039f\"],[0.2222222222222222,\"#7201a8\"],[0.3333333333333333,\"#9c179e\"],[0.4444444444444444,\"#bd3786\"],[0.5555555555555556,\"#d8576b\"],[0.6666666666666666,\"#ed7953\"],[0.7777777777777778,\"#fb9f3a\"],[0.8888888888888888,\"#fdca26\"],[1.0,\"#f0f921\"]],\"sequentialminus\":[[0.0,\"#0d0887\"],[0.1111111111111111,\"#46039f\"],[0.2222222222222222,\"#7201a8\"],[0.3333333333333333,\"#9c179e\"],[0.4444444444444444,\"#bd3786\"],[0.5555555555555556,\"#d8576b\"],[0.6666666666666666,\"#ed7953\"],[0.7777777777777778,\"#fb9f3a\"],[0.8888888888888888,\"#fdca26\"],[1.0,\"#f0f921\"]],\"diverging\":[[0,\"#8e0152\"],[0.1,\"#c51b7d\"],[0.2,\"#de77ae\"],[0.3,\"#f1b6da\"],[0.4,\"#fde0ef\"],[0.5,\"#f7f7f7\"],[0.6,\"#e6f5d0\"],[0.7,\"#b8e186\"],[0.8,\"#7fbc41\"],[0.9,\"#4d9221\"],[1,\"#276419\"]]},\"xaxis\":{\"gridcolor\":\"white\",\"linecolor\":\"white\",\"ticks\":\"\",\"title\":{\"standoff\":15},\"zerolinecolor\":\"white\",\"automargin\":true,\"zerolinewidth\":2},\"yaxis\":{\"gridcolor\":\"white\",\"linecolor\":\"white\",\"ticks\":\"\",\"title\":{\"standoff\":15},\"zerolinecolor\":\"white\",\"automargin\":true,\"zerolinewidth\":2},\"scene\":{\"xaxis\":{\"backgroundcolor\":\"#E5ECF6\",\"gridcolor\":\"white\",\"linecolor\":\"white\",\"showbackground\":true,\"ticks\":\"\",\"zerolinecolor\":\"white\",\"gridwidth\":2},\"yaxis\":{\"backgroundcolor\":\"#E5ECF6\",\"gridcolor\":\"white\",\"linecolor\":\"white\",\"showbackground\":true,\"ticks\":\"\",\"zerolinecolor\":\"white\",\"gridwidth\":2},\"zaxis\":{\"backgroundcolor\":\"#E5ECF6\",\"gridcolor\":\"white\",\"linecolor\":\"white\",\"showbackground\":true,\"ticks\":\"\",\"zerolinecolor\":\"white\",\"gridwidth\":2}},\"shapedefaults\":{\"line\":{\"color\":\"#2a3f5f\"}},\"annotationdefaults\":{\"arrowcolor\":\"#2a3f5f\",\"arrowhead\":0,\"arrowwidth\":1},\"geo\":{\"bgcolor\":\"white\",\"landcolor\":\"#E5ECF6\",\"subunitcolor\":\"white\",\"showland\":true,\"showlakes\":true,\"lakecolor\":\"white\"},\"title\":{\"x\":0.05},\"mapbox\":{\"style\":\"light\"}}},\"xaxis\":{\"anchor\":\"y\",\"domain\":[0.0,1.0],\"title\":{\"text\":\"Date\"}},\"yaxis\":{\"anchor\":\"x\",\"domain\":[0.0,1.0],\"title\":{\"text\":\"Amount\"}},\"legend\":{\"tracegroupgap\":0},\"margin\":{\"t\":60},\"barmode\":\"relative\"}}'"
      ]
     },
     "execution_count": 6,
     "metadata": {},
     "output_type": "execute_result"
    }
   ],
   "source": [
    "chart_json"
   ]
  }
 ],
 "metadata": {
  "kernelspec": {
   "display_name": "computer_vision",
   "language": "python",
   "name": "python3"
  },
  "language_info": {
   "codemirror_mode": {
    "name": "ipython",
    "version": 3
   },
   "file_extension": ".py",
   "mimetype": "text/x-python",
   "name": "python",
   "nbconvert_exporter": "python",
   "pygments_lexer": "ipython3",
   "version": "3.10.10"
  }
 },
 "nbformat": 4,
 "nbformat_minor": 2
}
